{
  "nbformat": 4,
  "nbformat_minor": 0,
  "metadata": {
    "colab": {
      "name": "PixelMotifGAN.ipynb",
      "provenance": [],
      "collapsed_sections": [
        "Pw1fNnG_kT6o",
        "hSxyUkbC861M"
      ],
      "toc_visible": true,
      "authorship_tag": "ABX9TyN89Y7i0pVWQvTMgMNKIYUd",
      "include_colab_link": true
    },
    "kernelspec": {
      "name": "python3",
      "display_name": "Python 3"
    },
    "widgets": {
      "application/vnd.jupyter.widget-state+json": {
        "739020d6e5d5461f96675af0cae3c1d0": {
          "model_module": "@jupyter-widgets/controls",
          "model_name": "HBoxModel",
          "state": {
            "_view_name": "HBoxView",
            "_dom_classes": [],
            "_model_name": "HBoxModel",
            "_view_module": "@jupyter-widgets/controls",
            "_model_module_version": "1.5.0",
            "_view_count": null,
            "_view_module_version": "1.5.0",
            "box_style": "",
            "layout": "IPY_MODEL_00a0b5f1148b441bb91c2ba6d32d38d5",
            "_model_module": "@jupyter-widgets/controls",
            "children": [
              "IPY_MODEL_105ca6c7631b46d4b1859b8aed0ff364",
              "IPY_MODEL_2f91e7cb6e3946c1980143b362ef5abf"
            ]
          }
        },
        "00a0b5f1148b441bb91c2ba6d32d38d5": {
          "model_module": "@jupyter-widgets/base",
          "model_name": "LayoutModel",
          "state": {
            "_view_name": "LayoutView",
            "grid_template_rows": null,
            "right": null,
            "justify_content": null,
            "_view_module": "@jupyter-widgets/base",
            "overflow": null,
            "_model_module_version": "1.2.0",
            "_view_count": null,
            "flex_flow": null,
            "width": null,
            "min_width": null,
            "border": null,
            "align_items": null,
            "bottom": null,
            "_model_module": "@jupyter-widgets/base",
            "top": null,
            "grid_column": null,
            "overflow_y": null,
            "overflow_x": null,
            "grid_auto_flow": null,
            "grid_area": null,
            "grid_template_columns": null,
            "flex": null,
            "_model_name": "LayoutModel",
            "justify_items": null,
            "grid_row": null,
            "max_height": null,
            "align_content": null,
            "visibility": null,
            "align_self": null,
            "height": null,
            "min_height": null,
            "padding": null,
            "grid_auto_rows": null,
            "grid_gap": null,
            "max_width": null,
            "order": null,
            "_view_module_version": "1.2.0",
            "grid_template_areas": null,
            "object_position": null,
            "object_fit": null,
            "grid_auto_columns": null,
            "margin": null,
            "display": null,
            "left": null
          }
        },
        "105ca6c7631b46d4b1859b8aed0ff364": {
          "model_module": "@jupyter-widgets/controls",
          "model_name": "FloatProgressModel",
          "state": {
            "_view_name": "ProgressView",
            "style": "IPY_MODEL_7b18a22d98d347818bff925f13cbbc2f",
            "_dom_classes": [],
            "description": "100%",
            "_model_name": "FloatProgressModel",
            "bar_style": "success",
            "max": 5,
            "_view_module": "@jupyter-widgets/controls",
            "_model_module_version": "1.5.0",
            "value": 5,
            "_view_count": null,
            "_view_module_version": "1.5.0",
            "orientation": "horizontal",
            "min": 0,
            "description_tooltip": null,
            "_model_module": "@jupyter-widgets/controls",
            "layout": "IPY_MODEL_df8ab92dd871428a94e6aceaa0ba5281"
          }
        },
        "2f91e7cb6e3946c1980143b362ef5abf": {
          "model_module": "@jupyter-widgets/controls",
          "model_name": "HTMLModel",
          "state": {
            "_view_name": "HTMLView",
            "style": "IPY_MODEL_9646b51458864b0a8444affa117c3990",
            "_dom_classes": [],
            "description": "",
            "_model_name": "HTMLModel",
            "placeholder": "​",
            "_view_module": "@jupyter-widgets/controls",
            "_model_module_version": "1.5.0",
            "value": " 5/5 [06:19&lt;00:00, 75.97s/it]",
            "_view_count": null,
            "_view_module_version": "1.5.0",
            "description_tooltip": null,
            "_model_module": "@jupyter-widgets/controls",
            "layout": "IPY_MODEL_5b436726d1fd4192a42ecfbc818085d1"
          }
        },
        "7b18a22d98d347818bff925f13cbbc2f": {
          "model_module": "@jupyter-widgets/controls",
          "model_name": "ProgressStyleModel",
          "state": {
            "_view_name": "StyleView",
            "_model_name": "ProgressStyleModel",
            "description_width": "initial",
            "_view_module": "@jupyter-widgets/base",
            "_model_module_version": "1.5.0",
            "_view_count": null,
            "_view_module_version": "1.2.0",
            "bar_color": null,
            "_model_module": "@jupyter-widgets/controls"
          }
        },
        "df8ab92dd871428a94e6aceaa0ba5281": {
          "model_module": "@jupyter-widgets/base",
          "model_name": "LayoutModel",
          "state": {
            "_view_name": "LayoutView",
            "grid_template_rows": null,
            "right": null,
            "justify_content": null,
            "_view_module": "@jupyter-widgets/base",
            "overflow": null,
            "_model_module_version": "1.2.0",
            "_view_count": null,
            "flex_flow": null,
            "width": null,
            "min_width": null,
            "border": null,
            "align_items": null,
            "bottom": null,
            "_model_module": "@jupyter-widgets/base",
            "top": null,
            "grid_column": null,
            "overflow_y": null,
            "overflow_x": null,
            "grid_auto_flow": null,
            "grid_area": null,
            "grid_template_columns": null,
            "flex": null,
            "_model_name": "LayoutModel",
            "justify_items": null,
            "grid_row": null,
            "max_height": null,
            "align_content": null,
            "visibility": null,
            "align_self": null,
            "height": null,
            "min_height": null,
            "padding": null,
            "grid_auto_rows": null,
            "grid_gap": null,
            "max_width": null,
            "order": null,
            "_view_module_version": "1.2.0",
            "grid_template_areas": null,
            "object_position": null,
            "object_fit": null,
            "grid_auto_columns": null,
            "margin": null,
            "display": null,
            "left": null
          }
        },
        "9646b51458864b0a8444affa117c3990": {
          "model_module": "@jupyter-widgets/controls",
          "model_name": "DescriptionStyleModel",
          "state": {
            "_view_name": "StyleView",
            "_model_name": "DescriptionStyleModel",
            "description_width": "",
            "_view_module": "@jupyter-widgets/base",
            "_model_module_version": "1.5.0",
            "_view_count": null,
            "_view_module_version": "1.2.0",
            "_model_module": "@jupyter-widgets/controls"
          }
        },
        "5b436726d1fd4192a42ecfbc818085d1": {
          "model_module": "@jupyter-widgets/base",
          "model_name": "LayoutModel",
          "state": {
            "_view_name": "LayoutView",
            "grid_template_rows": null,
            "right": null,
            "justify_content": null,
            "_view_module": "@jupyter-widgets/base",
            "overflow": null,
            "_model_module_version": "1.2.0",
            "_view_count": null,
            "flex_flow": null,
            "width": null,
            "min_width": null,
            "border": null,
            "align_items": null,
            "bottom": null,
            "_model_module": "@jupyter-widgets/base",
            "top": null,
            "grid_column": null,
            "overflow_y": null,
            "overflow_x": null,
            "grid_auto_flow": null,
            "grid_area": null,
            "grid_template_columns": null,
            "flex": null,
            "_model_name": "LayoutModel",
            "justify_items": null,
            "grid_row": null,
            "max_height": null,
            "align_content": null,
            "visibility": null,
            "align_self": null,
            "height": null,
            "min_height": null,
            "padding": null,
            "grid_auto_rows": null,
            "grid_gap": null,
            "max_width": null,
            "order": null,
            "_view_module_version": "1.2.0",
            "grid_template_areas": null,
            "object_position": null,
            "object_fit": null,
            "grid_auto_columns": null,
            "margin": null,
            "display": null,
            "left": null
          }
        }
      }
    }
  },
  "cells": [
    {
      "cell_type": "markdown",
      "metadata": {
        "id": "view-in-github",
        "colab_type": "text"
      },
      "source": [
        "<a href=\"https://colab.research.google.com/github/m3sibti/genomic_datascience/blob/master/PixelMotifGAN.ipynb\" target=\"_parent\"><img src=\"https://colab.research.google.com/assets/colab-badge.svg\" alt=\"Open In Colab\"/></a>"
      ]
    },
    {
      "cell_type": "markdown",
      "metadata": {
        "id": "T3UpqoUcMVNe",
        "colab_type": "text"
      },
      "source": [
        "### Data Preparation"
      ]
    },
    {
      "cell_type": "markdown",
      "metadata": {
        "id": "Pw1fNnG_kT6o",
        "colab_type": "text"
      },
      "source": [
        "#### Download links for files"
      ]
    },
    {
      "cell_type": "code",
      "metadata": {
        "id": "HXfggX_LMXS4",
        "colab_type": "code",
        "colab": {}
      },
      "source": [
        "import requests\n",
        "from bs4 import BeautifulSoup"
      ],
      "execution_count": 0,
      "outputs": []
    },
    {
      "cell_type": "code",
      "metadata": {
        "id": "3PlS3uNQRltb",
        "colab_type": "code",
        "colab": {}
      },
      "source": [
        "web_main_link = \"http://jaspar.genereg.net\""
      ],
      "execution_count": 0,
      "outputs": []
    },
    {
      "cell_type": "markdown",
      "metadata": {
        "id": "z9NYtDdgXaGE",
        "colab_type": "text"
      },
      "source": [
        "Step by step procedure"
      ]
    },
    {
      "cell_type": "code",
      "metadata": {
        "id": "kAc_WGYtMnI8",
        "colab_type": "code",
        "colab": {}
      },
      "source": [
        "'''\n",
        "# make simple request\n",
        "r = requests.get(f\"{web_main_link}/search?\", params= dict(\n",
        "                 page=1,\n",
        "                 q=\"Homo sapiens\",\n",
        "                 tax_group=\"vertebrates\",\n",
        "                 page_size=250,\n",
        "                 collection=\"CORE\"))\n",
        "\n",
        "soup = BeautifulSoup(r.text, \"html.parser\")\n",
        "\n",
        "tags = soup.find(\"table\", id = \"search_table\")\n",
        "\n",
        "tags2 = tags.find_all(\"tr\")\n",
        "len(tags2)\n",
        "\n",
        "rowsWithoutHeader = tags2[1:]\n",
        "len(rowsWithoutHeader)\n",
        "\n",
        "linksToData = []\n",
        "for row in rowsWithoutHeader:\n",
        "  dataItemLink = row.find(\"td\", id='profile_summary').find('a').get('href')\n",
        "  linksToData.append(web_main_link + dataItemLink)\n",
        "\n",
        "linksToData\n",
        "'''"
      ],
      "execution_count": 0,
      "outputs": []
    },
    {
      "cell_type": "markdown",
      "metadata": {
        "id": "N6WnOCsyRcMy",
        "colab_type": "text"
      },
      "source": [
        "A Function to extract all the links from the given website"
      ]
    },
    {
      "cell_type": "code",
      "metadata": {
        "id": "IBbF3MNvSp9I",
        "colab_type": "code",
        "colab": {}
      },
      "source": [
        "def getAllDataItemLinks(web_main_link, num_pages,\n",
        "                        filter=\"Homo sapiens\",\n",
        "                        group=\"vertebrates\"):\n",
        "  linksToDownload = []\n",
        "  for i in range(1, num_pages+1):\n",
        "    # make requests\n",
        "    r = requests.get(f\"{web_main_link}/search?\", params= dict(\n",
        "                 page=i,\n",
        "                 q=filter,\n",
        "                 tax_group=group,\n",
        "                 page_size=250,\n",
        "                 collection=\"CORE\"))\n",
        "    \n",
        "    # convert the response to html file\n",
        "    soup = BeautifulSoup(r.text, \"html.parser\")\n",
        "    search_table = soup.find(\"table\", id = \"search_table\")\n",
        "    useful_rows = search_table.find_all(\"tr\")\n",
        "    rowsWithoutHeader = useful_rows[1:]\n",
        "    for row in rowsWithoutHeader:\n",
        "      dataItemLink = row.find(\"td\", id='profile_summary').find('a').get('href')\n",
        "      linksToDownload.append(web_main_link + dataItemLink)\n",
        "\n",
        "  # remove repitions because they were 870 instead of 810\n",
        "  listWithNoRepition = list(dict.fromkeys(linksToDownload))\n",
        "  '''\n",
        "   after this process they remain 810,\n",
        "   which are the number of homo sepian items at the website\n",
        "   '''\n",
        "  return listWithNoRepition\n"
      ],
      "execution_count": 0,
      "outputs": []
    },
    {
      "cell_type": "code",
      "metadata": {
        "id": "qP0-hKaFVhyA",
        "colab_type": "code",
        "outputId": "adf97922-5b99-4868-aff8-8b8427a40872",
        "colab": {
          "base_uri": "https://localhost:8080/",
          "height": 34
        }
      },
      "source": [
        "listOfLinks = getAllDataItemLinks(\"http://jaspar.genereg.net\", num_pages=5)\n",
        "len(listOfLinks)"
      ],
      "execution_count": 0,
      "outputs": [
        {
          "output_type": "execute_result",
          "data": {
            "text/plain": [
              "810"
            ]
          },
          "metadata": {
            "tags": []
          },
          "execution_count": 83
        }
      ]
    },
    {
      "cell_type": "markdown",
      "metadata": {
        "id": "JUjQu6Cejm5H",
        "colab_type": "text"
      },
      "source": [
        "Gather the downloadable links from data items"
      ]
    },
    {
      "cell_type": "code",
      "metadata": {
        "id": "_99jI-SWeM0j",
        "colab_type": "code",
        "colab": {}
      },
      "source": [
        "downloadableFiles = []\n",
        "\n",
        "for flink in listOfLinks:\n",
        "  r = requests.get(flink)\n",
        "  soup = BeautifulSoup(r.text, \"html.parser\")\n",
        "  body_box = soup.find_all(\"div\", \"box-body\")[4]\n",
        "  itemToGo = body_box.find('a')\n",
        "  if itemToGo != None:\n",
        "    downloadableFiles.append(itemToGo.get('href'))\n"
      ],
      "execution_count": 0,
      "outputs": []
    },
    {
      "cell_type": "code",
      "metadata": {
        "id": "A2NWzYtwapW1",
        "colab_type": "code",
        "outputId": "f4566091-bf1d-48d6-8789-108d65990c61",
        "colab": {
          "base_uri": "https://localhost:8080/",
          "height": 34
        }
      },
      "source": [
        "print(f\"we have total {len(downloadableFiles)} downloadable files\")"
      ],
      "execution_count": 0,
      "outputs": [
        {
          "output_type": "stream",
          "text": [
            "we have total 323 downloadable files\n"
          ],
          "name": "stdout"
        }
      ]
    },
    {
      "cell_type": "markdown",
      "metadata": {
        "id": "vzLZrL83jzF0",
        "colab_type": "text"
      },
      "source": [
        "Write your data into files"
      ]
    },
    {
      "cell_type": "code",
      "metadata": {
        "id": "jrK79q-yhOqq",
        "colab_type": "code",
        "colab": {}
      },
      "source": [
        "with open('linksToGetMotifs.txt', 'w') as f:\n",
        "    for item in downloadableFiles:\n",
        "        f.write(f\"{web_main_link + item}\\n\")"
      ],
      "execution_count": 0,
      "outputs": []
    },
    {
      "cell_type": "markdown",
      "metadata": {
        "id": "nhX_I-FQj1sY",
        "colab_type": "text"
      },
      "source": [
        "Downloadable files"
      ]
    },
    {
      "cell_type": "code",
      "metadata": {
        "id": "lopQ3wo8hTfa",
        "colab_type": "code",
        "colab": {}
      },
      "source": [
        "webLinks = [web_main_link + item for item in downloadableFiles]"
      ],
      "execution_count": 0,
      "outputs": []
    },
    {
      "cell_type": "code",
      "metadata": {
        "id": "6y5F43d7kCn5",
        "colab_type": "code",
        "outputId": "2239afdc-3b7e-4a51-a519-6a98f57913e3",
        "colab": {
          "base_uri": "https://localhost:8080/",
          "height": 34
        }
      },
      "source": [
        "len(webLinks)"
      ],
      "execution_count": 0,
      "outputs": [
        {
          "output_type": "execute_result",
          "data": {
            "text/plain": [
              "323"
            ]
          },
          "metadata": {
            "tags": []
          },
          "execution_count": 162
        }
      ]
    },
    {
      "cell_type": "markdown",
      "metadata": {
        "id": "RIpMvrXMkO4D",
        "colab_type": "text"
      },
      "source": [
        "#### Visit Links"
      ]
    },
    {
      "cell_type": "code",
      "metadata": {
        "colab_type": "code",
        "outputId": "39af1c27-2818-436c-ddc0-eee27ed97877",
        "id": "7zyeMpk3kbZX",
        "colab": {
          "base_uri": "https://localhost:8080/",
          "height": 34
        }
      },
      "source": [
        "# len(webLinks)"
      ],
      "execution_count": 0,
      "outputs": [
        {
          "output_type": "execute_result",
          "data": {
            "text/plain": [
              "323"
            ]
          },
          "metadata": {
            "tags": []
          },
          "execution_count": 163
        }
      ]
    },
    {
      "cell_type": "code",
      "metadata": {
        "id": "SXBqhBfe6uJF",
        "colab_type": "code",
        "colab": {}
      },
      "source": [
        "import urllib\n",
        "import os\n",
        "from tqdm.notebook import tqdm\n",
        "import numpy as np\n",
        "import matplotlib.pyplot as plt\n",
        "import matplotlib.gridspec as gridspec"
      ],
      "execution_count": 0,
      "outputs": []
    },
    {
      "cell_type": "markdown",
      "metadata": {
        "id": "692UJwyE0GS-",
        "colab_type": "text"
      },
      "source": [
        "Downlad File"
      ]
    },
    {
      "cell_type": "code",
      "metadata": {
        "id": "Hs4XCc570KHi",
        "colab_type": "code",
        "colab": {}
      },
      "source": [
        "!wget -O motifLinks.txt -q \"https://nustedupk0-my.sharepoint.com/:t:/g/personal/smalik_mscse18_rcms_nust_edu_pk/EWa8FZcPR2tEuQ-R9HCUJOMBoXmW5HC-90yFk07rFYD5Ng?e=L5JLSZ&download=1\""
      ],
      "execution_count": 0,
      "outputs": []
    },
    {
      "cell_type": "code",
      "metadata": {
        "id": "iYYWOMpa1QC5",
        "colab_type": "code",
        "colab": {
          "base_uri": "https://localhost:8080/",
          "height": 34
        },
        "outputId": "84084fdf-00be-48be-dfeb-9373a6d15c3e"
      },
      "source": [
        "f = open(\"motifLinks.txt\", 'r')\n",
        "motifLinks = f.read().split('\\n')\n",
        "motifLinks = motifLinks[:-1]\n",
        "print(f'we have total {len(motifLinks)} links')"
      ],
      "execution_count": 10,
      "outputs": [
        {
          "output_type": "stream",
          "text": [
            "we have total 323 links\n"
          ],
          "name": "stdout"
        }
      ]
    },
    {
      "cell_type": "markdown",
      "metadata": {
        "id": "hSxyUkbC861M",
        "colab_type": "text"
      },
      "source": [
        "##### Get Motifs from HTML"
      ]
    },
    {
      "cell_type": "markdown",
      "metadata": {
        "id": "bMCGokHwqzAQ",
        "colab_type": "text"
      },
      "source": [
        "A Function to get motifs using `how_many`"
      ]
    },
    {
      "cell_type": "code",
      "metadata": {
        "id": "NHnWHhHpo48G",
        "colab_type": "code",
        "colab": {}
      },
      "source": [
        "def getMotif(webLinks, how_many=1):\n",
        "\n",
        "  def getProperMotifs(linkToVisit):\n",
        "    r = requests.get(linkToVisit)\n",
        "    soup = BeautifulSoup(r.text, 'html.parser')\n",
        "    allMotifs = soup.find_all('pre')\n",
        "    return allMotifs\n",
        "\n",
        "  if how_many == 1:\n",
        "    firstLink = webLinks[0]\n",
        "    allMotifs = getProperMotifs(firstLink)\n",
        "    myMotifs = [l.text for l in allMotifs if len(l.text) > 2]\n",
        "    return myMotifs\n",
        "\n",
        "  else:\n",
        "    motifLists = []\n",
        "    for mLink in webLinks[:how_many]:\n",
        "      collectionName = mLink.split('/')[4]\n",
        "      allMotifs = getProperMotifs(mLink)\n",
        "      myMotifs = [l.text for l in allMotifs if len(l.text) > 2]\n",
        "      motifLists.append({collectionName: myMotifs})\n",
        "    return motifLists\n"
      ],
      "execution_count": 0,
      "outputs": []
    },
    {
      "cell_type": "markdown",
      "metadata": {
        "id": "RKZM_rAdq-cM",
        "colab_type": "text"
      },
      "source": [
        "use this function to make a call for them"
      ]
    },
    {
      "cell_type": "code",
      "metadata": {
        "id": "KndyTyJJksSL",
        "colab_type": "code",
        "colab": {}
      },
      "source": [
        "# motifLists = getMotif(motifLinks, how_many=1)"
      ],
      "execution_count": 0,
      "outputs": []
    },
    {
      "cell_type": "markdown",
      "metadata": {
        "id": "FlE1qD4B9CGS",
        "colab_type": "text"
      },
      "source": [
        "##### Download Motif Files"
      ]
    },
    {
      "cell_type": "markdown",
      "metadata": {
        "id": "wNunBQ8c5REz",
        "colab_type": "text"
      },
      "source": [
        "Create downloadable links"
      ]
    },
    {
      "cell_type": "code",
      "metadata": {
        "id": "WcJco_gY5KPJ",
        "colab_type": "code",
        "colab": {}
      },
      "source": [
        "def createDownloadLinks(motifLinks):\n",
        "  motifDownloableLinks = []\n",
        "  for li in motifLinks:\n",
        "     nl = li.split('/')\n",
        "     nl.insert(3, 'download')\n",
        "     nl[-1] = nl[-1] + '.sites'\n",
        "     separter = '/'\n",
        "     downloadableLink = separter.join(nl)\n",
        "     motifDownloableLinks.append(downloadableLink)\n",
        "\n",
        "  return motifDownloableLinks"
      ],
      "execution_count": 0,
      "outputs": []
    },
    {
      "cell_type": "code",
      "metadata": {
        "id": "3tgxvmYp4vI-",
        "colab_type": "code",
        "colab": {
          "base_uri": "https://localhost:8080/",
          "height": 51
        },
        "outputId": "a3f024b7-955a-4767-d513-5f4cd0cf75ab"
      },
      "source": [
        "downloadableLinks = createDownloadLinks(motifLinks)\n",
        "print('A single link look alike: \\n',downloadableLinks[0])"
      ],
      "execution_count": 12,
      "outputs": [
        {
          "output_type": "stream",
          "text": [
            "A single link look alike: \n",
            " http://jaspar.genereg.net/download/sites/MA0007.2.sites\n"
          ],
          "name": "stdout"
        }
      ]
    },
    {
      "cell_type": "markdown",
      "metadata": {
        "id": "qhyAr9NS6jNK",
        "colab_type": "text"
      },
      "source": [
        "Download Files"
      ]
    },
    {
      "cell_type": "code",
      "metadata": {
        "id": "wwPElivT6lw9",
        "colab_type": "code",
        "colab": {
          "base_uri": "https://localhost:8080/",
          "height": 83,
          "referenced_widgets": [
            "739020d6e5d5461f96675af0cae3c1d0",
            "00a0b5f1148b441bb91c2ba6d32d38d5",
            "105ca6c7631b46d4b1859b8aed0ff364",
            "2f91e7cb6e3946c1980143b362ef5abf",
            "7b18a22d98d347818bff925f13cbbc2f",
            "df8ab92dd871428a94e6aceaa0ba5281",
            "9646b51458864b0a8444affa117c3990",
            "5b436726d1fd4192a42ecfbc818085d1"
          ]
        },
        "outputId": "6716e85c-c683-4599-914a-3001a8d975ef"
      },
      "source": [
        "# download files for motif dataset\n",
        "\n",
        "# set the directory name\n",
        "dir_name = 'data_files'\n",
        "# create the directory if not already\n",
        "os.makedirs(dir_name, exist_ok=True)\n",
        "\n",
        "# currently downloading only 10 files - change it according to your requirement,\n",
        "print('Downloading 5 Motif Files....')\n",
        "for ilink in tqdm(downloadableLinks[:5]):\n",
        "  fileName = ilink.split('.sites')[0].split('/')[-1]\n",
        "  urllib.request.urlretrieve(ilink, f'{dir_name}/{fileName}.txt')"
      ],
      "execution_count": 13,
      "outputs": [
        {
          "output_type": "stream",
          "text": [
            "Downloading 5 Motif Files....\n"
          ],
          "name": "stdout"
        },
        {
          "output_type": "display_data",
          "data": {
            "application/vnd.jupyter.widget-view+json": {
              "model_id": "739020d6e5d5461f96675af0cae3c1d0",
              "version_minor": 0,
              "version_major": 2
            },
            "text/plain": [
              "HBox(children=(FloatProgress(value=0.0, max=5.0), HTML(value='')))"
            ]
          },
          "metadata": {
            "tags": []
          }
        },
        {
          "output_type": "stream",
          "text": [
            "\n"
          ],
          "name": "stdout"
        }
      ]
    },
    {
      "cell_type": "code",
      "metadata": {
        "id": "XbvWit--8rRQ",
        "colab_type": "code",
        "colab": {}
      },
      "source": [
        "# remove data files when not needed\n",
        "# !rm -r data_files"
      ],
      "execution_count": 0,
      "outputs": []
    },
    {
      "cell_type": "markdown",
      "metadata": {
        "id": "voTySKcAINpT",
        "colab_type": "text"
      },
      "source": [
        "#### Extract data from files"
      ]
    },
    {
      "cell_type": "code",
      "metadata": {
        "id": "ljAES2OLIUek",
        "colab_type": "code",
        "outputId": "487f9a7d-0c4f-4449-b500-a3a4700ce51e",
        "colab": {
          "base_uri": "https://localhost:8080/",
          "height": 102
        }
      },
      "source": [
        "file_paths = sorted([ dir_name+\"/\"+f for f in os.listdir(dir_name) ])\n",
        "file_paths"
      ],
      "execution_count": 14,
      "outputs": [
        {
          "output_type": "execute_result",
          "data": {
            "text/plain": [
              "['data_files/MA0007.2.txt',\n",
              " 'data_files/MA0259.1.txt',\n",
              " 'data_files/MA1100.1.txt',\n",
              " 'data_files/MA1631.1.txt',\n",
              " 'data_files/MA1632.1.txt']"
            ]
          },
          "metadata": {
            "tags": []
          },
          "execution_count": 14
        }
      ]
    },
    {
      "cell_type": "markdown",
      "metadata": {
        "id": "DKORnd8koNTt",
        "colab_type": "text"
      },
      "source": [
        "Working on a single file"
      ]
    },
    {
      "cell_type": "code",
      "metadata": {
        "id": "F4Y2oVFKIatZ",
        "colab_type": "code",
        "outputId": "575d3f95-857d-4136-f2c1-aad07413ba20",
        "colab": {
          "base_uri": "https://localhost:8080/",
          "height": 51
        }
      },
      "source": [
        "first_path = file_paths[0]\n",
        "file_data = open(first_path, 'r')\n",
        "\n",
        "t_data = file_data.read().split('>')[1:]\n",
        "pos_ix = list()\n",
        "neg_ix = list()\n",
        "for i, xi in enumerate(x):\n",
        "  if '(+)' in xi:\n",
        "    pos_ix.append(i)\n",
        "  elif '(-)' in xi:\n",
        "    neg_ix.append(i)\n",
        "\n",
        "x_pos = [x[i] for i in pos_ix]\n",
        "x_neg = [x[i] for i in neg_ix]\n",
        "\n",
        "print(f'{len(x_pos)} Postives\\n{len(x_neg)} Negatives')"
      ],
      "execution_count": 273,
      "outputs": [
        {
          "output_type": "stream",
          "text": [
            "5653 Postives\n",
            "5553 Negatives\n"
          ],
          "name": "stdout"
        }
      ]
    },
    {
      "cell_type": "code",
      "metadata": {
        "id": "0zdL7DZ1-rCr",
        "colab_type": "code",
        "colab": {
          "base_uri": "https://localhost:8080/",
          "height": 51
        },
        "outputId": "a1de7ef4-a6d7-4743-a457-229820d2846f"
      },
      "source": [
        "def get_useful_data(mf):\n",
        "  m_data = [ k \n",
        "            for f in mf\n",
        "            for k in f.split('\\n')\n",
        "            if not k.startswith('h')]\n",
        "  combine_data = ''.join(m_data)\n",
        "  print(f'we have total {len(combine_data)} alphabets.')\n",
        "  return combine_data\n",
        "\n",
        "pos_data = get_useful_data(x_pos)\n",
        "neg_data = get_useful_data(x_neg)"
      ],
      "execution_count": 281,
      "outputs": [
        {
          "output_type": "stream",
          "text": [
            "we have total 650095 alphabets.\n",
            "we have total 638595 alphabets.\n"
          ],
          "name": "stdout"
        }
      ]
    },
    {
      "cell_type": "markdown",
      "metadata": {
        "id": "A1JFLBBSoS3c",
        "colab_type": "text"
      },
      "source": [
        "Define Image Data for conversion"
      ]
    },
    {
      "cell_type": "code",
      "metadata": {
        "id": "7U-OoHLZKJEY",
        "colab_type": "code",
        "outputId": "4294502f-076d-414d-c022-1d1a771786b2",
        "colab": {
          "base_uri": "https://localhost:8080/",
          "height": 68
        }
      },
      "source": [
        "img_shape = (28, 28)\n",
        "img_size = img_shape[0]*img_shape[1]\n",
        "total_pos_imgs = len(pos_data) // img_size\n",
        "total_neg_imgs = len(neg_data) // img_size\n",
        "\n",
        "print(f\"Our image size {img_shape[0]} * {img_shape[1]} = \", img_size)\n",
        "print(\"total postive images from this file =\",total_pos_imgs)\n",
        "print(\"total negative images from this file =\",total_pos_imgs)"
      ],
      "execution_count": 312,
      "outputs": [
        {
          "output_type": "stream",
          "text": [
            "Our image size 28 * 28 =  784\n",
            "total postive images from this file = 829\n",
            "total negative images from this file = 829\n"
          ],
          "name": "stdout"
        }
      ]
    },
    {
      "cell_type": "code",
      "metadata": {
        "id": "ShTtACinKSq7",
        "colab_type": "code",
        "colab": {
          "base_uri": "https://localhost:8080/",
          "height": 139
        },
        "outputId": "c47cc9f8-bbb0-479f-def8-5af083bda93d"
      },
      "source": [
        "pos_imgs_data = []\n",
        "neg_imgs_data = []\n",
        "for i in range(total_pos_imgs):\n",
        "  start = i * img_size\n",
        "  end = (i+1) * img_size\n",
        "  pos_imgs_data.append(pos_data[start:end])\n",
        "\n",
        "for i in range(total_neg_imgs):\n",
        "  start = i * img_size\n",
        "  end = (i+1) * img_size\n",
        "  neg_imgs_data.append(neg_data[start:end])\n",
        "\n",
        "print('\\nA postive image look like:\\n',pos_imgs_data[0])\n",
        "print('\\nA negative image look like:\\n',neg_imgs_data[0])"
      ],
      "execution_count": 313,
      "outputs": [
        {
          "output_type": "stream",
          "text": [
            "\n",
            "A postive image look like:\n",
            " aacaatctcactcaaagatggatatgatgattttatgagacttttcagagAGGAACAGAGTGTTCtgtttgcatagagaatagtcacattgtgttaggagcatgctgttactatttccagctcattcacctttaactcaggcttttcatggggctgggctgcctcAGGAACAGAGTGTTCagccaaagcacagcttcacctctctcctcctggccttatctgatctggccatagaagtggtcctacagctgtgtgcaggaaggctgtatattttaacaagAGGAACAGAGTGTGCtgttgagaatagaggacaatgaattaagaatcgggcctagaaaacactgggatttctataaattctctttgatttagaaccatacttgtattctctacctAGGAACAGAGTGTTCctattgattgtttaaaaagaggaaacttcttgaacacagctgagtactgagatgcatttcccccatttaggaattacaactcaggaagaaacattctaaaAGGAACAGACTGTTCctttgagtgtcagaagccacaataaatatttttacagtagaatctaaatagcggggccagtgccttccgttttctggagaatgatgagtcgtagatgaaaAAGAACAGAGTGTGCtggacaatacccaagagttattcagaacaagcaaatgtgttcctgggcagttaataaatttcaaaacttggaacaatgttagatttacaaaaacgtcagaAAGAACAGAGTGTTCctgtttattctttatatagcctttttttt\n",
            "\n",
            "A negative image look like:\n",
            " aaagttgtgttaaaaaattaataatcttgtaatgcactatttggaaacgtAGGAACAGAGTGTGCagtcaactcagccagcagtgtttgaattagcctcagagacagaggcttgtatagctgtcctttactgcgtggctggccccgtgccatggggcagtgtgttAGGAACAGAGTGTGCatttgttctcatcttttcaacaacccttgggctgaatgggactctatccgttgaattttttctaaatgttcttatattaagcctttgtcagaactggaggAGGAACAGAGTGTTCcaaagccttggacccatgacaaaaatctcttcttctgaatttttcatcattcctgcaggcctgtgtagagagccctcagcggggcgggaggatgtgaggaAAGAACAGAGTGTTCcaggcagaacaaagccagctgcaaatttgctcaggccctttcgtttcttcctgccacattaccacctgtgttactgggaaaagggagaactgatgctgggAGGAACAGCGTGTTCctacgccggcccggcatggcggggacatgtctgcagcagggagaggtggcgccaaaaaataccaaggaacatctgaagccaacagaagcaggaagaggcaAAGAACAGACTGTTCcttagagctttcgcaagtactgcagccctaccgacaccttgatgtcagacctgatcggcagttgcttctgaaacattggcttcggggagtgcaaagaaaaAGGAACAGGGTGTGCtgaggcaggattttgaagtaactctttaa\n"
          ],
          "name": "stdout"
        }
      ]
    },
    {
      "cell_type": "markdown",
      "metadata": {
        "id": "kokBsiv8Qxy9",
        "colab_type": "text"
      },
      "source": [
        "Functions to encode and decode characters into numerical values"
      ]
    },
    {
      "cell_type": "code",
      "metadata": {
        "id": "xvvrE3bQMvSb",
        "colab_type": "code",
        "colab": {}
      },
      "source": [
        "def giveNumberAgainstChar(char):\n",
        "  if char == 'a':\n",
        "    return 0\n",
        "  elif char == 'c':\n",
        "    return 85\n",
        "  elif char == 't':\n",
        "    return 170\n",
        "  elif char == 'g':\n",
        "    return 255\n",
        "\n",
        "def giveCharAgainstNumber(n):\n",
        "  if n is 0:\n",
        "    return 'a'\n",
        "  elif n is 85:\n",
        "    return 'c'\n",
        "  elif n is 170:\n",
        "    return 't'\n",
        "  elif n is 255:\n",
        "    return 'g'"
      ],
      "execution_count": 0,
      "outputs": []
    },
    {
      "cell_type": "code",
      "metadata": {
        "id": "J40p8XKCjmpG",
        "colab_type": "code",
        "colab": {}
      },
      "source": [
        "# checking the range\n",
        "# (0 - 127.5)/127.5, (85 - 127.5)/127.5,(170 - 127.5)/127.5,(255 - 127.5)/127.5"
      ],
      "execution_count": 0,
      "outputs": []
    },
    {
      "cell_type": "markdown",
      "metadata": {
        "id": "S8F68D2EStMb",
        "colab_type": "text"
      },
      "source": [
        "#### Create Image Data and Visualize"
      ]
    },
    {
      "cell_type": "markdown",
      "metadata": {
        "id": "rgcNZmF6Rgpp",
        "colab_type": "text"
      },
      "source": [
        "Create a training batch"
      ]
    },
    {
      "cell_type": "code",
      "metadata": {
        "id": "Hvbtu98PMb-Z",
        "colab_type": "code",
        "colab": {
          "base_uri": "https://localhost:8080/",
          "height": 51
        },
        "outputId": "0f266960-7398-44d4-c2e2-116f34612e67"
      },
      "source": [
        "# full training images\n",
        "# positive\n",
        "x_pos_train_pix = np.empty(shape=(total_pos_imgs, 28, 28))\n",
        "x_pos_train_chr = np.empty(shape=(total_pos_imgs, 28, 28), dtype='str')\n",
        "# negative\n",
        "x_neg_train_pix = np.empty(shape=(total_neg_imgs, 28, 28))\n",
        "x_neg_train_chr = np.empty(shape=(total_neg_imgs, 28, 28), dtype='str')\n",
        "\n",
        "for i, img_data in enumerate(pos_imgs_data):\n",
        "  # convert strings to lower case\n",
        "  img_data = img_data.lower()\n",
        "  # convert characters into numbers\n",
        "  x_pos_train_pix[i] = np.asarray([giveNumberAgainstChar(i) for i in img_data]).reshape(28, 28)\n",
        "  x_pos_train_chr[i] = np.asarray([list(img_data)]).reshape(28, 28)\n",
        "\n",
        "for i, img_data in enumerate(neg_imgs_data):\n",
        "  # convert strings to lower case\n",
        "  img_data = img_data.lower()\n",
        "  # convert characters into numbers\n",
        "  x_neg_train_pix[i] = np.asarray([giveNumberAgainstChar(i) for i in img_data]).reshape(28, 28)\n",
        "  x_neg_train_chr[i] = np.asarray([list(img_data)]).reshape(28, 28)\n",
        "\n",
        "# print shapes\n",
        "print('Shapes of positive array',x_pos_train_pix.shape, x_pos_train_chr.shape)\n",
        "print('Shapes of negative array', x_neg_train_pix.shape, x_neg_train_chr.shape)"
      ],
      "execution_count": 317,
      "outputs": [
        {
          "output_type": "stream",
          "text": [
            "Shapes of positive array (829, 28, 28) (829, 28, 28)\n",
            "Shapes of negative array (814, 28, 28) (814, 28, 28)\n"
          ],
          "name": "stdout"
        }
      ]
    },
    {
      "cell_type": "markdown",
      "metadata": {
        "id": "yxNC0oDLRjDR",
        "colab_type": "text"
      },
      "source": [
        "Display top images from training batch "
      ]
    },
    {
      "cell_type": "code",
      "metadata": {
        "id": "NlSGeh72L4ce",
        "colab_type": "code",
        "colab": {}
      },
      "source": [
        "def show_images(img_list):\n",
        "  plt.figure(figsize=(10, 10))\n",
        "  for i in range(25):\n",
        "    plt.subplot(5, 5, i+1)\n",
        "    plt.xticks([])\n",
        "    plt.yticks([])\n",
        "    plt.grid(False)\n",
        "    plt.title(str(i+1))\n",
        "    plt.xlabel(imgs_data[i][:28])\n",
        "    plt.imshow(img_list[i], cmap='binary')\n",
        "\n",
        "def show_coupled(n_rows=2, n_cols=2, data=None, title=None):\n",
        "  \n",
        "  def convert_text(xi):\n",
        "    m_ch_arr = list()\n",
        "    for im in xi:\n",
        "      marr = ''.join(im)\n",
        "      m_ch_arr.append(marr)\n",
        "    kik = '\\n'.join(m_ch_arr)\n",
        "    return kik\n",
        "\n",
        "  x, y = data\n",
        "  \n",
        "  total_plots = n_rows*n_cols\n",
        "  fig = plt.figure(figsize=(10, 8))\n",
        "  fig.suptitle(title, fontsize=16)\n",
        "  outer = gridspec.GridSpec(n_rows, n_cols, wspace=0.2, hspace=0.2)\n",
        "  \n",
        "  for i in range(total_plots):\n",
        "    inner = gridspec.GridSpecFromSubplotSpec(1, 2,\n",
        "                    subplot_spec=outer[i], wspace=0.1, hspace=0.1)\n",
        "    for j in range(2):\n",
        "      ax = plt.Subplot(fig, inner[j])\n",
        "      ax.axis('off')\n",
        "      if j == 0:\n",
        "        t = ax.imshow(x[i], cmap='gray')\n",
        "        ax.set_title('Image Motif', y=1.2)\n",
        "      else:\n",
        "        ax.set_title('Texual Motif', y=1.2)\n",
        "        ax.text(14, 14, convert_text(y[i]),\n",
        "                size='xx-small',\n",
        "                ha='center', va='center',\n",
        "                backgroundcolor='white')\n",
        "        ax.imshow(np.zeros((28,28)), cmap='gray_r')\n",
        "      fig.add_subplot(ax)"
      ],
      "execution_count": 0,
      "outputs": []
    },
    {
      "cell_type": "code",
      "metadata": {
        "id": "WGlWp4lSSNvK",
        "colab_type": "code",
        "outputId": "1ac5e187-2dc6-4672-bfce-f5ca6d9da641",
        "colab": {
          "base_uri": "https://localhost:8080/",
          "height": 508
        }
      },
      "source": [
        "# show_images(x_train)\n",
        "show_coupled(data=(x_pos_train_pix, x_pos_train_chr),\n",
        "             title='Postive Samples')"
      ],
      "execution_count": 387,
      "outputs": [
        {
          "output_type": "display_data",
          "data": {
            "image/png": "[encoded data removed]",
            "text/plain": [
              "<Figure size 720x576 with 8 Axes>"
            ]
          },
          "metadata": {
            "tags": [],
            "needs_background": "light"
          }
        }
      ]
    },
    {
      "cell_type": "code",
      "metadata": {
        "id": "wbro1dsm4kas",
        "colab_type": "code",
        "colab": {
          "base_uri": "https://localhost:8080/",
          "height": 508
        },
        "outputId": "988ce084-b9f0-425c-b6c0-a3d2a2f1eddf"
      },
      "source": [
        "show_coupled(data=(x_neg_train_pix, x_neg_train_chr),\n",
        "             title='Negative Samples')"
      ],
      "execution_count": 388,
      "outputs": [
        {
          "output_type": "display_data",
          "data": {
            "image/png": "[encoded data removed]",
            "text/plain": [
              "<Figure size 720x576 with 8 Axes>"
            ]
          },
          "metadata": {
            "tags": [],
            "needs_background": "light"
          }
        }
      ]
    },
    {
      "cell_type": "code",
      "metadata": {
        "id": "C_3N7wBzD_NF",
        "colab_type": "code",
        "colab": {}
      },
      "source": [
        ""
      ],
      "execution_count": 0,
      "outputs": []
    }
  ]
}
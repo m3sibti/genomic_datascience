{
  "nbformat": 4,
  "nbformat_minor": 0,
  "metadata": {
    "colab": {
      "name": "PixelMotifGAN.ipynb",
      "provenance": [],
      "collapsed_sections": [
        "Pw1fNnG_kT6o",
        "RIpMvrXMkO4D",
        "hSxyUkbC861M",
        "voTySKcAINpT",
        "S8F68D2EStMb"
      ],
      "toc_visible": true,
      "authorship_tag": "ABX9TyNaxsAzUw62yUFyRZw7tU+B",
      "include_colab_link": true
    },
    "kernelspec": {
      "name": "python3",
      "display_name": "Python 3"
    },
    "widgets": {
      "application/vnd.jupyter.widget-state+json": {
        "1b5f4acf847043cc9a62bc5da19825eb": {
          "model_module": "@jupyter-widgets/controls",
          "model_name": "HBoxModel",
          "state": {
            "_view_name": "HBoxView",
            "_dom_classes": [],
            "_model_name": "HBoxModel",
            "_view_module": "@jupyter-widgets/controls",
            "_model_module_version": "1.5.0",
            "_view_count": null,
            "_view_module_version": "1.5.0",
            "box_style": "",
            "layout": "IPY_MODEL_2620dca40d7049b6a0b09e6afd588857",
            "_model_module": "@jupyter-widgets/controls",
            "children": [
              "IPY_MODEL_267f26383dae4862b1dc70a6bf0b37bb",
              "IPY_MODEL_2763191640f04f81b5eea40369040635"
            ]
          }
        },
        "2620dca40d7049b6a0b09e6afd588857": {
          "model_module": "@jupyter-widgets/base",
          "model_name": "LayoutModel",
          "state": {
            "_view_name": "LayoutView",
            "grid_template_rows": null,
            "right": null,
            "justify_content": null,
            "_view_module": "@jupyter-widgets/base",
            "overflow": null,
            "_model_module_version": "1.2.0",
            "_view_count": null,
            "flex_flow": null,
            "width": null,
            "min_width": null,
            "border": null,
            "align_items": null,
            "bottom": null,
            "_model_module": "@jupyter-widgets/base",
            "top": null,
            "grid_column": null,
            "overflow_y": null,
            "overflow_x": null,
            "grid_auto_flow": null,
            "grid_area": null,
            "grid_template_columns": null,
            "flex": null,
            "_model_name": "LayoutModel",
            "justify_items": null,
            "grid_row": null,
            "max_height": null,
            "align_content": null,
            "visibility": null,
            "align_self": null,
            "height": null,
            "min_height": null,
            "padding": null,
            "grid_auto_rows": null,
            "grid_gap": null,
            "max_width": null,
            "order": null,
            "_view_module_version": "1.2.0",
            "grid_template_areas": null,
            "object_position": null,
            "object_fit": null,
            "grid_auto_columns": null,
            "margin": null,
            "display": null,
            "left": null
          }
        },
        "267f26383dae4862b1dc70a6bf0b37bb": {
          "model_module": "@jupyter-widgets/controls",
          "model_name": "FloatProgressModel",
          "state": {
            "_view_name": "ProgressView",
            "style": "IPY_MODEL_3a2a1b3baea14db4b64e1d23c1cb5243",
            "_dom_classes": [],
            "description": "100%",
            "_model_name": "FloatProgressModel",
            "bar_style": "success",
            "max": 5,
            "_view_module": "@jupyter-widgets/controls",
            "_model_module_version": "1.5.0",
            "value": 5,
            "_view_count": null,
            "_view_module_version": "1.5.0",
            "orientation": "horizontal",
            "min": 0,
            "description_tooltip": null,
            "_model_module": "@jupyter-widgets/controls",
            "layout": "IPY_MODEL_e4f7b06278ff4bd79329250dd5b7dbf3"
          }
        },
        "2763191640f04f81b5eea40369040635": {
          "model_module": "@jupyter-widgets/controls",
          "model_name": "HTMLModel",
          "state": {
            "_view_name": "HTMLView",
            "style": "IPY_MODEL_1889f3dbce544bba800d4f9bef2b6dcb",
            "_dom_classes": [],
            "description": "",
            "_model_name": "HTMLModel",
            "placeholder": "​",
            "_view_module": "@jupyter-widgets/controls",
            "_model_module_version": "1.5.0",
            "value": " 5/5 [02:35&lt;00:00, 31.11s/it]",
            "_view_count": null,
            "_view_module_version": "1.5.0",
            "description_tooltip": null,
            "_model_module": "@jupyter-widgets/controls",
            "layout": "IPY_MODEL_e96b18f0d97446f9b986ff95497a89b2"
          }
        },
        "3a2a1b3baea14db4b64e1d23c1cb5243": {
          "model_module": "@jupyter-widgets/controls",
          "model_name": "ProgressStyleModel",
          "state": {
            "_view_name": "StyleView",
            "_model_name": "ProgressStyleModel",
            "description_width": "initial",
            "_view_module": "@jupyter-widgets/base",
            "_model_module_version": "1.5.0",
            "_view_count": null,
            "_view_module_version": "1.2.0",
            "bar_color": null,
            "_model_module": "@jupyter-widgets/controls"
          }
        },
        "e4f7b06278ff4bd79329250dd5b7dbf3": {
          "model_module": "@jupyter-widgets/base",
          "model_name": "LayoutModel",
          "state": {
            "_view_name": "LayoutView",
            "grid_template_rows": null,
            "right": null,
            "justify_content": null,
            "_view_module": "@jupyter-widgets/base",
            "overflow": null,
            "_model_module_version": "1.2.0",
            "_view_count": null,
            "flex_flow": null,
            "width": null,
            "min_width": null,
            "border": null,
            "align_items": null,
            "bottom": null,
            "_model_module": "@jupyter-widgets/base",
            "top": null,
            "grid_column": null,
            "overflow_y": null,
            "overflow_x": null,
            "grid_auto_flow": null,
            "grid_area": null,
            "grid_template_columns": null,
            "flex": null,
            "_model_name": "LayoutModel",
            "justify_items": null,
            "grid_row": null,
            "max_height": null,
            "align_content": null,
            "visibility": null,
            "align_self": null,
            "height": null,
            "min_height": null,
            "padding": null,
            "grid_auto_rows": null,
            "grid_gap": null,
            "max_width": null,
            "order": null,
            "_view_module_version": "1.2.0",
            "grid_template_areas": null,
            "object_position": null,
            "object_fit": null,
            "grid_auto_columns": null,
            "margin": null,
            "display": null,
            "left": null
          }
        },
        "1889f3dbce544bba800d4f9bef2b6dcb": {
          "model_module": "@jupyter-widgets/controls",
          "model_name": "DescriptionStyleModel",
          "state": {
            "_view_name": "StyleView",
            "_model_name": "DescriptionStyleModel",
            "description_width": "",
            "_view_module": "@jupyter-widgets/base",
            "_model_module_version": "1.5.0",
            "_view_count": null,
            "_view_module_version": "1.2.0",
            "_model_module": "@jupyter-widgets/controls"
          }
        },
        "e96b18f0d97446f9b986ff95497a89b2": {
          "model_module": "@jupyter-widgets/base",
          "model_name": "LayoutModel",
          "state": {
            "_view_name": "LayoutView",
            "grid_template_rows": null,
            "right": null,
            "justify_content": null,
            "_view_module": "@jupyter-widgets/base",
            "overflow": null,
            "_model_module_version": "1.2.0",
            "_view_count": null,
            "flex_flow": null,
            "width": null,
            "min_width": null,
            "border": null,
            "align_items": null,
            "bottom": null,
            "_model_module": "@jupyter-widgets/base",
            "top": null,
            "grid_column": null,
            "overflow_y": null,
            "overflow_x": null,
            "grid_auto_flow": null,
            "grid_area": null,
            "grid_template_columns": null,
            "flex": null,
            "_model_name": "LayoutModel",
            "justify_items": null,
            "grid_row": null,
            "max_height": null,
            "align_content": null,
            "visibility": null,
            "align_self": null,
            "height": null,
            "min_height": null,
            "padding": null,
            "grid_auto_rows": null,
            "grid_gap": null,
            "max_width": null,
            "order": null,
            "_view_module_version": "1.2.0",
            "grid_template_areas": null,
            "object_position": null,
            "object_fit": null,
            "grid_auto_columns": null,
            "margin": null,
            "display": null,
            "left": null
          }
        }
      }
    }
  },
  "cells": [
    {
      "cell_type": "markdown",
      "metadata": {
        "id": "view-in-github",
        "colab_type": "text"
      },
      "source": [
        "<a href=\"https://colab.research.google.com/github/m3sibti/genomic_datascience/blob/master/PixelMotifGAN.ipynb\" target=\"_parent\"><img src=\"https://colab.research.google.com/assets/colab-badge.svg\" alt=\"Open In Colab\"/></a>"
      ]
    },
    {
      "cell_type": "markdown",
      "metadata": {
        "id": "T3UpqoUcMVNe",
        "colab_type": "text"
      },
      "source": [
        "### Data Preparation"
      ]
    },
    {
      "cell_type": "markdown",
      "metadata": {
        "id": "Pw1fNnG_kT6o",
        "colab_type": "text"
      },
      "source": [
        "#### Download links for files"
      ]
    },
    {
      "cell_type": "code",
      "metadata": {
        "id": "HXfggX_LMXS4",
        "colab_type": "code",
        "colab": {}
      },
      "source": [
        "import requests\n",
        "from bs4 import BeautifulSoup"
      ],
      "execution_count": 0,
      "outputs": []
    },
    {
      "cell_type": "code",
      "metadata": {
        "id": "3PlS3uNQRltb",
        "colab_type": "code",
        "colab": {}
      },
      "source": [
        "web_main_link = \"http://jaspar.genereg.net\""
      ],
      "execution_count": 0,
      "outputs": []
    },
    {
      "cell_type": "markdown",
      "metadata": {
        "id": "z9NYtDdgXaGE",
        "colab_type": "text"
      },
      "source": [
        "Step by step procedure"
      ]
    },
    {
      "cell_type": "code",
      "metadata": {
        "id": "kAc_WGYtMnI8",
        "colab_type": "code",
        "colab": {}
      },
      "source": [
        "'''\n",
        "# make simple request\n",
        "r = requests.get(f\"{web_main_link}/search?\", params= dict(\n",
        "                 page=1,\n",
        "                 q=\"Homo sapiens\",\n",
        "                 tax_group=\"vertebrates\",\n",
        "                 page_size=250,\n",
        "                 collection=\"CORE\"))\n",
        "\n",
        "soup = BeautifulSoup(r.text, \"html.parser\")\n",
        "\n",
        "tags = soup.find(\"table\", id = \"search_table\")\n",
        "\n",
        "tags2 = tags.find_all(\"tr\")\n",
        "len(tags2)\n",
        "\n",
        "rowsWithoutHeader = tags2[1:]\n",
        "len(rowsWithoutHeader)\n",
        "\n",
        "linksToData = []\n",
        "for row in rowsWithoutHeader:\n",
        "  dataItemLink = row.find(\"td\", id='profile_summary').find('a').get('href')\n",
        "  linksToData.append(web_main_link + dataItemLink)\n",
        "\n",
        "linksToData\n",
        "'''"
      ],
      "execution_count": 0,
      "outputs": []
    },
    {
      "cell_type": "markdown",
      "metadata": {
        "id": "N6WnOCsyRcMy",
        "colab_type": "text"
      },
      "source": [
        "A Function to extract all the links from the given website"
      ]
    },
    {
      "cell_type": "code",
      "metadata": {
        "id": "IBbF3MNvSp9I",
        "colab_type": "code",
        "colab": {}
      },
      "source": [
        "def getAllDataItemLinks(web_main_link, num_pages,\n",
        "                        filter=\"Homo sapiens\",\n",
        "                        group=\"vertebrates\"):\n",
        "  linksToDownload = []\n",
        "  for i in range(1, num_pages+1):\n",
        "    # make requests\n",
        "    r = requests.get(f\"{web_main_link}/search?\", params= dict(\n",
        "                 page=i,\n",
        "                 q=filter,\n",
        "                 tax_group=group,\n",
        "                 page_size=250,\n",
        "                 collection=\"CORE\"))\n",
        "    \n",
        "    # convert the response to html file\n",
        "    soup = BeautifulSoup(r.text, \"html.parser\")\n",
        "    search_table = soup.find(\"table\", id = \"search_table\")\n",
        "    useful_rows = search_table.find_all(\"tr\")\n",
        "    rowsWithoutHeader = useful_rows[1:]\n",
        "    for row in rowsWithoutHeader:\n",
        "      dataItemLink = row.find(\"td\", id='profile_summary').find('a').get('href')\n",
        "      linksToDownload.append(web_main_link + dataItemLink)\n",
        "\n",
        "  # remove repitions because they were 870 instead of 810\n",
        "  listWithNoRepition = list(dict.fromkeys(linksToDownload))\n",
        "  '''\n",
        "   after this process they remain 810,\n",
        "   which are the number of homo sepian items at the website\n",
        "   '''\n",
        "  return listWithNoRepition\n"
      ],
      "execution_count": 0,
      "outputs": []
    },
    {
      "cell_type": "code",
      "metadata": {
        "id": "qP0-hKaFVhyA",
        "colab_type": "code",
        "outputId": "adf97922-5b99-4868-aff8-8b8427a40872",
        "colab": {
          "base_uri": "https://localhost:8080/",
          "height": 34
        }
      },
      "source": [
        "listOfLinks = getAllDataItemLinks(\"http://jaspar.genereg.net\", num_pages=5)\n",
        "len(listOfLinks)"
      ],
      "execution_count": 0,
      "outputs": [
        {
          "output_type": "execute_result",
          "data": {
            "text/plain": [
              "810"
            ]
          },
          "metadata": {
            "tags": []
          },
          "execution_count": 83
        }
      ]
    },
    {
      "cell_type": "markdown",
      "metadata": {
        "id": "JUjQu6Cejm5H",
        "colab_type": "text"
      },
      "source": [
        "Gather the downloadable links from data items"
      ]
    },
    {
      "cell_type": "code",
      "metadata": {
        "id": "_99jI-SWeM0j",
        "colab_type": "code",
        "colab": {}
      },
      "source": [
        "downloadableFiles = []\n",
        "\n",
        "for flink in listOfLinks:\n",
        "  r = requests.get(flink)\n",
        "  soup = BeautifulSoup(r.text, \"html.parser\")\n",
        "  body_box = soup.find_all(\"div\", \"box-body\")[4]\n",
        "  itemToGo = body_box.find('a')\n",
        "  if itemToGo != None:\n",
        "    downloadableFiles.append(itemToGo.get('href'))\n"
      ],
      "execution_count": 0,
      "outputs": []
    },
    {
      "cell_type": "code",
      "metadata": {
        "id": "A2NWzYtwapW1",
        "colab_type": "code",
        "outputId": "f4566091-bf1d-48d6-8789-108d65990c61",
        "colab": {
          "base_uri": "https://localhost:8080/",
          "height": 34
        }
      },
      "source": [
        "print(f\"we have total {len(downloadableFiles)} downloadable files\")"
      ],
      "execution_count": 0,
      "outputs": [
        {
          "output_type": "stream",
          "text": [
            "we have total 323 downloadable files\n"
          ],
          "name": "stdout"
        }
      ]
    },
    {
      "cell_type": "markdown",
      "metadata": {
        "id": "vzLZrL83jzF0",
        "colab_type": "text"
      },
      "source": [
        "Write your data into files"
      ]
    },
    {
      "cell_type": "code",
      "metadata": {
        "id": "jrK79q-yhOqq",
        "colab_type": "code",
        "colab": {}
      },
      "source": [
        "with open('linksToGetMotifs.txt', 'w') as f:\n",
        "    for item in downloadableFiles:\n",
        "        f.write(f\"{web_main_link + item}\\n\")"
      ],
      "execution_count": 0,
      "outputs": []
    },
    {
      "cell_type": "markdown",
      "metadata": {
        "id": "nhX_I-FQj1sY",
        "colab_type": "text"
      },
      "source": [
        "Downloadable files"
      ]
    },
    {
      "cell_type": "code",
      "metadata": {
        "id": "lopQ3wo8hTfa",
        "colab_type": "code",
        "colab": {}
      },
      "source": [
        "webLinks = [web_main_link + item for item in downloadableFiles]"
      ],
      "execution_count": 0,
      "outputs": []
    },
    {
      "cell_type": "code",
      "metadata": {
        "id": "6y5F43d7kCn5",
        "colab_type": "code",
        "outputId": "2239afdc-3b7e-4a51-a519-6a98f57913e3",
        "colab": {
          "base_uri": "https://localhost:8080/",
          "height": 34
        }
      },
      "source": [
        "len(webLinks)"
      ],
      "execution_count": 0,
      "outputs": [
        {
          "output_type": "execute_result",
          "data": {
            "text/plain": [
              "323"
            ]
          },
          "metadata": {
            "tags": []
          },
          "execution_count": 162
        }
      ]
    },
    {
      "cell_type": "markdown",
      "metadata": {
        "id": "RIpMvrXMkO4D",
        "colab_type": "text"
      },
      "source": [
        "#### Visit Links"
      ]
    },
    {
      "cell_type": "code",
      "metadata": {
        "colab_type": "code",
        "outputId": "39af1c27-2818-436c-ddc0-eee27ed97877",
        "id": "7zyeMpk3kbZX",
        "colab": {
          "base_uri": "https://localhost:8080/",
          "height": 34
        }
      },
      "source": [
        "# len(webLinks)"
      ],
      "execution_count": 0,
      "outputs": [
        {
          "output_type": "execute_result",
          "data": {
            "text/plain": [
              "323"
            ]
          },
          "metadata": {
            "tags": []
          },
          "execution_count": 163
        }
      ]
    },
    {
      "cell_type": "code",
      "metadata": {
        "id": "SXBqhBfe6uJF",
        "colab_type": "code",
        "colab": {}
      },
      "source": [
        "import urllib\n",
        "import os\n",
        "from tqdm.notebook import tqdm\n",
        "import numpy as np\n",
        "import matplotlib.pyplot as plt"
      ],
      "execution_count": 0,
      "outputs": []
    },
    {
      "cell_type": "markdown",
      "metadata": {
        "id": "692UJwyE0GS-",
        "colab_type": "text"
      },
      "source": [
        "Downlad File"
      ]
    },
    {
      "cell_type": "code",
      "metadata": {
        "id": "Hs4XCc570KHi",
        "colab_type": "code",
        "colab": {}
      },
      "source": [
        "!wget -O motifLinks.txt -q \"https://nustedupk0-my.sharepoint.com/:t:/g/personal/smalik_mscse18_rcms_nust_edu_pk/EWa8FZcPR2tEuQ-R9HCUJOMBoXmW5HC-90yFk07rFYD5Ng?e=L5JLSZ&download=1\""
      ],
      "execution_count": 0,
      "outputs": []
    },
    {
      "cell_type": "code",
      "metadata": {
        "id": "iYYWOMpa1QC5",
        "colab_type": "code",
        "colab": {}
      },
      "source": [
        "f = open(\"motifLinks.txt\", 'r')\n",
        "motifLinks = f.read().split('\\n')\n",
        "motifLinks = motifLinks[:-1]"
      ],
      "execution_count": 0,
      "outputs": []
    },
    {
      "cell_type": "code",
      "metadata": {
        "id": "gzC6941J1am0",
        "colab_type": "code",
        "outputId": "48957951-c49d-4fb1-c2d3-9478a1cad3fa",
        "colab": {
          "base_uri": "https://localhost:8080/",
          "height": 34
        }
      },
      "source": [
        "len(motifLinks)"
      ],
      "execution_count": 4,
      "outputs": [
        {
          "output_type": "execute_result",
          "data": {
            "text/plain": [
              "323"
            ]
          },
          "metadata": {
            "tags": []
          },
          "execution_count": 4
        }
      ]
    },
    {
      "cell_type": "markdown",
      "metadata": {
        "id": "hSxyUkbC861M",
        "colab_type": "text"
      },
      "source": [
        "##### Get Motifs from HTML"
      ]
    },
    {
      "cell_type": "markdown",
      "metadata": {
        "id": "bMCGokHwqzAQ",
        "colab_type": "text"
      },
      "source": [
        "A Function to get motifs using `how_many`"
      ]
    },
    {
      "cell_type": "code",
      "metadata": {
        "id": "NHnWHhHpo48G",
        "colab_type": "code",
        "colab": {}
      },
      "source": [
        "def getMotif(webLinks, how_many=1):\n",
        "\n",
        "  def getProperMotifs(linkToVisit):\n",
        "    r = requests.get(linkToVisit)\n",
        "    soup = BeautifulSoup(r.text, 'html.parser')\n",
        "    allMotifs = soup.find_all('pre')\n",
        "    return allMotifs\n",
        "\n",
        "  if how_many == 1:\n",
        "    firstLink = webLinks[0]\n",
        "    allMotifs = getProperMotifs(firstLink)\n",
        "    myMotifs = [l.text for l in allMotifs if len(l.text) > 2]\n",
        "    return myMotifs\n",
        "\n",
        "  else:\n",
        "    motifLists = []\n",
        "    for mLink in webLinks[:how_many]:\n",
        "      collectionName = mLink.split('/')[4]\n",
        "      allMotifs = getProperMotifs(mLink)\n",
        "      myMotifs = [l.text for l in allMotifs if len(l.text) > 2]\n",
        "      motifLists.append({collectionName: myMotifs})\n",
        "    return motifLists\n"
      ],
      "execution_count": 0,
      "outputs": []
    },
    {
      "cell_type": "markdown",
      "metadata": {
        "id": "RKZM_rAdq-cM",
        "colab_type": "text"
      },
      "source": [
        "use this function to make a call for them"
      ]
    },
    {
      "cell_type": "code",
      "metadata": {
        "id": "KndyTyJJksSL",
        "colab_type": "code",
        "colab": {}
      },
      "source": [
        "# motifLists = getMotif(motifLinks, how_many=1)"
      ],
      "execution_count": 0,
      "outputs": []
    },
    {
      "cell_type": "markdown",
      "metadata": {
        "id": "FlE1qD4B9CGS",
        "colab_type": "text"
      },
      "source": [
        "##### Download Motif Files"
      ]
    },
    {
      "cell_type": "markdown",
      "metadata": {
        "id": "wNunBQ8c5REz",
        "colab_type": "text"
      },
      "source": [
        "Create downloadable links"
      ]
    },
    {
      "cell_type": "code",
      "metadata": {
        "id": "WcJco_gY5KPJ",
        "colab_type": "code",
        "colab": {}
      },
      "source": [
        "def createDownloadLinks(motifLinks):\n",
        "  motifDownloableLinks = []\n",
        "  for li in motifLinks:\n",
        "     nl = li.split('/')\n",
        "     nl.insert(3, 'download')\n",
        "     nl[-1] = nl[-1] + '.sites'\n",
        "     separter = '/'\n",
        "     downloadableLink = separter.join(nl)\n",
        "     motifDownloableLinks.append(downloadableLink)\n",
        "\n",
        "  return motifDownloableLinks"
      ],
      "execution_count": 0,
      "outputs": []
    },
    {
      "cell_type": "code",
      "metadata": {
        "id": "3tgxvmYp4vI-",
        "colab_type": "code",
        "colab": {}
      },
      "source": [
        "downloadableLinks = createDownloadLinks(motifLinks)"
      ],
      "execution_count": 0,
      "outputs": []
    },
    {
      "cell_type": "code",
      "metadata": {
        "id": "rpBlRz035Dk0",
        "colab_type": "code",
        "outputId": "64450708-7173-40cf-a046-e2272dc5be98",
        "colab": {
          "base_uri": "https://localhost:8080/",
          "height": 34
        }
      },
      "source": [
        "downloadableLinks[0]"
      ],
      "execution_count": 8,
      "outputs": [
        {
          "output_type": "execute_result",
          "data": {
            "text/plain": [
              "'http://jaspar.genereg.net/download/sites/MA0007.2.sites'"
            ]
          },
          "metadata": {
            "tags": []
          },
          "execution_count": 8
        }
      ]
    },
    {
      "cell_type": "markdown",
      "metadata": {
        "id": "qhyAr9NS6jNK",
        "colab_type": "text"
      },
      "source": [
        "Download Files"
      ]
    },
    {
      "cell_type": "code",
      "metadata": {
        "id": "wwPElivT6lw9",
        "colab_type": "code",
        "colab": {}
      },
      "source": [
        "# set the directory name\n",
        "dir_name = 'data_files'\n",
        "\n",
        "# create the directory if not already\n",
        "os.makedirs(dir_name, exist_ok=True)"
      ],
      "execution_count": 0,
      "outputs": []
    },
    {
      "cell_type": "code",
      "metadata": {
        "id": "leIadxCX59Hu",
        "colab_type": "code",
        "outputId": "9d797e96-789d-4e50-dd39-3897c3b32394",
        "colab": {
          "base_uri": "https://localhost:8080/",
          "height": 83,
          "referenced_widgets": [
            "1b5f4acf847043cc9a62bc5da19825eb",
            "2620dca40d7049b6a0b09e6afd588857",
            "267f26383dae4862b1dc70a6bf0b37bb",
            "2763191640f04f81b5eea40369040635",
            "3a2a1b3baea14db4b64e1d23c1cb5243",
            "e4f7b06278ff4bd79329250dd5b7dbf3",
            "1889f3dbce544bba800d4f9bef2b6dcb",
            "e96b18f0d97446f9b986ff95497a89b2"
          ]
        }
      },
      "source": [
        "# download files for motif dataset\n",
        "\n",
        "# currently downloading only 10 files - change it according to your requirement,\n",
        "print('Downloading 5 Motif Files....')\n",
        "for ilink in tqdm(downloadableLinks[:5]):\n",
        "  fileName = ilink.split('.sites')[0].split('/')[-1]\n",
        "  urllib.request.urlretrieve(ilink, f'{dir_name}/{fileName}.txt')"
      ],
      "execution_count": 10,
      "outputs": [
        {
          "output_type": "stream",
          "text": [
            "Downloading 5 Motif Files....\n"
          ],
          "name": "stdout"
        },
        {
          "output_type": "display_data",
          "data": {
            "application/vnd.jupyter.widget-view+json": {
              "model_id": "1b5f4acf847043cc9a62bc5da19825eb",
              "version_minor": 0,
              "version_major": 2
            },
            "text/plain": [
              "HBox(children=(FloatProgress(value=0.0, max=5.0), HTML(value='')))"
            ]
          },
          "metadata": {
            "tags": []
          }
        },
        {
          "output_type": "stream",
          "text": [
            "\n"
          ],
          "name": "stdout"
        }
      ]
    },
    {
      "cell_type": "code",
      "metadata": {
        "id": "XbvWit--8rRQ",
        "colab_type": "code",
        "colab": {}
      },
      "source": [
        "# remove data files when not needed\n",
        "# !rm -r data_files"
      ],
      "execution_count": 0,
      "outputs": []
    },
    {
      "cell_type": "markdown",
      "metadata": {
        "id": "voTySKcAINpT",
        "colab_type": "text"
      },
      "source": [
        "#### Extract data from files"
      ]
    },
    {
      "cell_type": "code",
      "metadata": {
        "id": "ljAES2OLIUek",
        "colab_type": "code",
        "outputId": "269ff6c8-31f3-4989-9132-066c328e41a0",
        "colab": {
          "base_uri": "https://localhost:8080/",
          "height": 102
        }
      },
      "source": [
        "file_paths = sorted([ dir_name+\"/\"+f for f in os.listdir(dir_name) ])\n",
        "file_paths"
      ],
      "execution_count": 11,
      "outputs": [
        {
          "output_type": "execute_result",
          "data": {
            "text/plain": [
              "['data_files/MA0007.2.txt',\n",
              " 'data_files/MA0259.1.txt',\n",
              " 'data_files/MA1100.1.txt',\n",
              " 'data_files/MA1631.1.txt',\n",
              " 'data_files/MA1632.1.txt']"
            ]
          },
          "metadata": {
            "tags": []
          },
          "execution_count": 11
        }
      ]
    },
    {
      "cell_type": "code",
      "metadata": {
        "id": "F4Y2oVFKIatZ",
        "colab_type": "code",
        "outputId": "a61bb59f-7c05-4ad1-cb40-f02c53f87a3f",
        "colab": {
          "base_uri": "https://localhost:8080/",
          "height": 34
        }
      },
      "source": [
        "first_path = file_paths[0]\n",
        "first_path"
      ],
      "execution_count": 12,
      "outputs": [
        {
          "output_type": "execute_result",
          "data": {
            "text/plain": [
              "'data_files/MA0007.2.txt'"
            ]
          },
          "metadata": {
            "tags": []
          },
          "execution_count": 12
        }
      ]
    },
    {
      "cell_type": "code",
      "metadata": {
        "id": "PDO3amMZIbNG",
        "colab_type": "code",
        "colab": {}
      },
      "source": [
        "file_data = open(first_path, 'r')\n",
        "m_data = [ k for k in file_data.read().split('\\n') if not k.startswith('>')]\n",
        "combine_data = ''.join(m_data)"
      ],
      "execution_count": 0,
      "outputs": []
    },
    {
      "cell_type": "code",
      "metadata": {
        "id": "95pVsYhfJdYP",
        "colab_type": "code",
        "outputId": "647e93d4-bc34-449e-93e7-abb81f01c5aa",
        "colab": {
          "base_uri": "https://localhost:8080/",
          "height": 34
        }
      },
      "source": [
        "print(f'we have total {len(combine_data)} alphabets in this file {first_path}')"
      ],
      "execution_count": 26,
      "outputs": [
        {
          "output_type": "stream",
          "text": [
            "we have total 1288690 alphabets in this file data_files/MA0007.2.txt\n"
          ],
          "name": "stdout"
        }
      ]
    },
    {
      "cell_type": "code",
      "metadata": {
        "id": "7U-OoHLZKJEY",
        "colab_type": "code",
        "outputId": "5f83f9d0-582b-452d-ad82-15979b2e52ae",
        "colab": {
          "base_uri": "https://localhost:8080/",
          "height": 51
        }
      },
      "source": [
        "img_shape = (16, 16)\n",
        "img_size = 16*16\n",
        "total_imgs = len(combine_data) // img_size\n",
        "print(\"our image size 16 * 16 = \", img_size)\n",
        "print(\"total images from this file \", total_imgs)"
      ],
      "execution_count": 15,
      "outputs": [
        {
          "output_type": "stream",
          "text": [
            "our image size 16 * 16 =  256\n",
            "total images from this file  5033\n"
          ],
          "name": "stdout"
        }
      ]
    },
    {
      "cell_type": "code",
      "metadata": {
        "id": "ShTtACinKSq7",
        "colab_type": "code",
        "colab": {}
      },
      "source": [
        "imgs_data = []\n",
        "for i in range(total_imgs):\n",
        "  start = i * img_size\n",
        "  end = (i+1) * img_size\n",
        "  imgs_data.append(combine_data[start:end])"
      ],
      "execution_count": 0,
      "outputs": []
    },
    {
      "cell_type": "code",
      "metadata": {
        "id": "SdBMyjOQKXvN",
        "colab_type": "code",
        "outputId": "b4afe571-fb3d-4fe1-eb51-ab352bc55921",
        "colab": {
          "base_uri": "https://localhost:8080/",
          "height": 88
        }
      },
      "source": [
        "imgs_data[:3]"
      ],
      "execution_count": 17,
      "outputs": [
        {
          "output_type": "execute_result",
          "data": {
            "text/plain": [
              "['aacaatctcactcaaagatggatatgatgattttatgagacttttcagagAGGAACAGAGTGTTCtgtttgcatagagaatagtcacattgtgttaggagcatgctgttactattaaagttgtgttaaaaaattaataatcttgtaatgcactatttggaaacgtAGGAACAGAGTGTGCagtcaactcagccagcagtgtttgaattagcctcagagacagaggcttgtatagctgtcctttactgcgtggctgg',\n",
              " 'ccccgtgccatggggcagtgtgttAGGAACAGAGTGTGCatttgttctcatcttttcaacaacccttgggctgaatgggactctatccgtccagctcattcacctttaactcaggcttttcatggggctgggctgcctcAGGAACAGAGTGTTCagccaaagcacagcttcacctctctcctcctggccttatctgatctggccatagaagtggtcctacagctgtgtgcaggaaggctgtatattttaacaagAG',\n",
              " 'GAACAGAGTGTGCtgttgagaatagaggacaatgaattaagaatcgggcctagaaaacactggttgaattttttctaaatgttcttatattaagcctttgtcagaactggaggAGGAACAGAGTGTTCcaaagccttggacccatgacaaaaatctcttcttctgaatttttcatcatgatttctataaattctctttgatttagaaccatacttgtattctctacctAGGAACAGAGTGTTCctattgattgttt']"
            ]
          },
          "metadata": {
            "tags": []
          },
          "execution_count": 17
        }
      ]
    },
    {
      "cell_type": "markdown",
      "metadata": {
        "id": "kokBsiv8Qxy9",
        "colab_type": "text"
      },
      "source": [
        "Function to convert characters into numerical values"
      ]
    },
    {
      "cell_type": "code",
      "metadata": {
        "id": "xvvrE3bQMvSb",
        "colab_type": "code",
        "colab": {}
      },
      "source": [
        "def giveNumberAgainstChar(char):\n",
        "  if char == 'a':\n",
        "    return 0\n",
        "  elif char == 'c':\n",
        "    return 85\n",
        "  elif char == 't':\n",
        "    return 170\n",
        "  elif char == 'g':\n",
        "    return 255"
      ],
      "execution_count": 0,
      "outputs": []
    },
    {
      "cell_type": "markdown",
      "metadata": {
        "id": "S8F68D2EStMb",
        "colab_type": "text"
      },
      "source": [
        "#### Create Image Data and Visualize"
      ]
    },
    {
      "cell_type": "markdown",
      "metadata": {
        "id": "rgcNZmF6Rgpp",
        "colab_type": "text"
      },
      "source": [
        "Create a training batch"
      ]
    },
    {
      "cell_type": "code",
      "metadata": {
        "id": "Hvbtu98PMb-Z",
        "colab_type": "code",
        "colab": {}
      },
      "source": [
        "# full training images\n",
        "x_train = np.empty(shape=(total_imgs, 16, 16))\n",
        "\n",
        "for i, img_data in enumerate(imgs_data):\n",
        "  # convert strings to lower case\n",
        "  img_data = img_data.lower()\n",
        "  # convert characters into numbers\n",
        "  img_data = [giveNumberAgainstChar(i) for i in img_data]\n",
        "  x_train[i] = np.array(img_data).reshape(16, 16)"
      ],
      "execution_count": 0,
      "outputs": []
    },
    {
      "cell_type": "code",
      "metadata": {
        "id": "Fs2SIF1FQIkC",
        "colab_type": "code",
        "outputId": "f92914fd-e0b5-44ad-d4a8-8fe9d03ad840",
        "colab": {
          "base_uri": "https://localhost:8080/",
          "height": 34
        }
      },
      "source": [
        "x_train.shape"
      ],
      "execution_count": 20,
      "outputs": [
        {
          "output_type": "execute_result",
          "data": {
            "text/plain": [
              "(5033, 16, 16)"
            ]
          },
          "metadata": {
            "tags": []
          },
          "execution_count": 20
        }
      ]
    },
    {
      "cell_type": "markdown",
      "metadata": {
        "id": "yxNC0oDLRjDR",
        "colab_type": "text"
      },
      "source": [
        "Display top images from training batch "
      ]
    },
    {
      "cell_type": "code",
      "metadata": {
        "id": "NlSGeh72L4ce",
        "colab_type": "code",
        "colab": {}
      },
      "source": [
        "def show_images(img_list):\n",
        "  plt.figure(figsize=(10, 10))\n",
        "  for i in range(25):\n",
        "    plt.subplot(5, 5, i+1)\n",
        "    plt.xticks([])\n",
        "    plt.yticks([])\n",
        "    plt.grid(False)\n",
        "    plt.title(str(i+1))\n",
        "    plt.imshow(img_list[i], cmap='binary')"
      ],
      "execution_count": 0,
      "outputs": []
    },
    {
      "cell_type": "code",
      "metadata": {
        "id": "WGlWp4lSSNvK",
        "colab_type": "code",
        "outputId": "03b3b256-4bea-4816-ecc1-273abc47f125",
        "colab": {
          "base_uri": "https://localhost:8080/",
          "height": 594
        }
      },
      "source": [
        "show_images(x_train)"
      ],
      "execution_count": 28,
      "outputs": [
        {
          "output_type": "display_data",
          "data": {
            "image/png": "[encoded data removed]",
            "text/plain": [
              "<Figure size 720x720 with 25 Axes>"
            ]
          },
          "metadata": {
            "tags": []
          }
        }
      ]
    },
    {
      "cell_type": "code",
      "metadata": {
        "id": "9dA77zWLSPal",
        "colab_type": "code",
        "colab": {}
      },
      "source": [
        ""
      ],
      "execution_count": 0,
      "outputs": []
    }
  ]
}
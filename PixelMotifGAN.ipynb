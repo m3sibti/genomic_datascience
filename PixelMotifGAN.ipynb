{
  "nbformat": 4,
  "nbformat_minor": 0,
  "metadata": {
    "colab": {
      "name": "PixelMotifGAN.ipynb",
      "provenance": [],
      "collapsed_sections": [
        "Pw1fNnG_kT6o",
        "RIpMvrXMkO4D",
        "hSxyUkbC861M",
        "FlE1qD4B9CGS",
        "voTySKcAINpT",
        "S8F68D2EStMb"
      ],
      "toc_visible": true,
      "authorship_tag": "ABX9TyPlrVDgsmU3ffuC+Ez4louI",
      "include_colab_link": true
    },
    "kernelspec": {
      "name": "python3",
      "display_name": "Python 3"
    },
    "widgets": {
      "application/vnd.jupyter.widget-state+json": {
        "a16e72cbb563462791bc55877e7eadd7": {
          "model_module": "@jupyter-widgets/controls",
          "model_name": "HBoxModel",
          "state": {
            "_view_name": "HBoxView",
            "_dom_classes": [],
            "_model_name": "HBoxModel",
            "_view_module": "@jupyter-widgets/controls",
            "_model_module_version": "1.5.0",
            "_view_count": null,
            "_view_module_version": "1.5.0",
            "box_style": "",
            "layout": "IPY_MODEL_cb335aff06844f41a6b574b7ef3c61d2",
            "_model_module": "@jupyter-widgets/controls",
            "children": [
              "IPY_MODEL_d722e4396386417dadf5bcab513cd6b2",
              "IPY_MODEL_52914f3e69784a29821a8b3f85ab8359"
            ]
          }
        },
        "cb335aff06844f41a6b574b7ef3c61d2": {
          "model_module": "@jupyter-widgets/base",
          "model_name": "LayoutModel",
          "state": {
            "_view_name": "LayoutView",
            "grid_template_rows": null,
            "right": null,
            "justify_content": null,
            "_view_module": "@jupyter-widgets/base",
            "overflow": null,
            "_model_module_version": "1.2.0",
            "_view_count": null,
            "flex_flow": null,
            "width": null,
            "min_width": null,
            "border": null,
            "align_items": null,
            "bottom": null,
            "_model_module": "@jupyter-widgets/base",
            "top": null,
            "grid_column": null,
            "overflow_y": null,
            "overflow_x": null,
            "grid_auto_flow": null,
            "grid_area": null,
            "grid_template_columns": null,
            "flex": null,
            "_model_name": "LayoutModel",
            "justify_items": null,
            "grid_row": null,
            "max_height": null,
            "align_content": null,
            "visibility": null,
            "align_self": null,
            "height": null,
            "min_height": null,
            "padding": null,
            "grid_auto_rows": null,
            "grid_gap": null,
            "max_width": null,
            "order": null,
            "_view_module_version": "1.2.0",
            "grid_template_areas": null,
            "object_position": null,
            "object_fit": null,
            "grid_auto_columns": null,
            "margin": null,
            "display": null,
            "left": null
          }
        },
        "d722e4396386417dadf5bcab513cd6b2": {
          "model_module": "@jupyter-widgets/controls",
          "model_name": "FloatProgressModel",
          "state": {
            "_view_name": "ProgressView",
            "style": "IPY_MODEL_a804fea52e514663b1d1570716fbba15",
            "_dom_classes": [],
            "description": "100%",
            "_model_name": "FloatProgressModel",
            "bar_style": "success",
            "max": 100,
            "_view_module": "@jupyter-widgets/controls",
            "_model_module_version": "1.5.0",
            "value": 100,
            "_view_count": null,
            "_view_module_version": "1.5.0",
            "orientation": "horizontal",
            "min": 0,
            "description_tooltip": null,
            "_model_module": "@jupyter-widgets/controls",
            "layout": "IPY_MODEL_802ff7edbdef4d29b473211b1aca87d1"
          }
        },
        "52914f3e69784a29821a8b3f85ab8359": {
          "model_module": "@jupyter-widgets/controls",
          "model_name": "HTMLModel",
          "state": {
            "_view_name": "HTMLView",
            "style": "IPY_MODEL_29cd0da4a8494e87b002854cf51bea5a",
            "_dom_classes": [],
            "description": "",
            "_model_name": "HTMLModel",
            "placeholder": "​",
            "_view_module": "@jupyter-widgets/controls",
            "_model_module_version": "1.5.0",
            "value": " 100/100 [04:20&lt;00:00,  2.60s/it]",
            "_view_count": null,
            "_view_module_version": "1.5.0",
            "description_tooltip": null,
            "_model_module": "@jupyter-widgets/controls",
            "layout": "IPY_MODEL_698f902a19724d75b0d6b70598e7a3b1"
          }
        },
        "a804fea52e514663b1d1570716fbba15": {
          "model_module": "@jupyter-widgets/controls",
          "model_name": "ProgressStyleModel",
          "state": {
            "_view_name": "StyleView",
            "_model_name": "ProgressStyleModel",
            "description_width": "initial",
            "_view_module": "@jupyter-widgets/base",
            "_model_module_version": "1.5.0",
            "_view_count": null,
            "_view_module_version": "1.2.0",
            "bar_color": null,
            "_model_module": "@jupyter-widgets/controls"
          }
        },
        "802ff7edbdef4d29b473211b1aca87d1": {
          "model_module": "@jupyter-widgets/base",
          "model_name": "LayoutModel",
          "state": {
            "_view_name": "LayoutView",
            "grid_template_rows": null,
            "right": null,
            "justify_content": null,
            "_view_module": "@jupyter-widgets/base",
            "overflow": null,
            "_model_module_version": "1.2.0",
            "_view_count": null,
            "flex_flow": null,
            "width": null,
            "min_width": null,
            "border": null,
            "align_items": null,
            "bottom": null,
            "_model_module": "@jupyter-widgets/base",
            "top": null,
            "grid_column": null,
            "overflow_y": null,
            "overflow_x": null,
            "grid_auto_flow": null,
            "grid_area": null,
            "grid_template_columns": null,
            "flex": null,
            "_model_name": "LayoutModel",
            "justify_items": null,
            "grid_row": null,
            "max_height": null,
            "align_content": null,
            "visibility": null,
            "align_self": null,
            "height": null,
            "min_height": null,
            "padding": null,
            "grid_auto_rows": null,
            "grid_gap": null,
            "max_width": null,
            "order": null,
            "_view_module_version": "1.2.0",
            "grid_template_areas": null,
            "object_position": null,
            "object_fit": null,
            "grid_auto_columns": null,
            "margin": null,
            "display": null,
            "left": null
          }
        },
        "29cd0da4a8494e87b002854cf51bea5a": {
          "model_module": "@jupyter-widgets/controls",
          "model_name": "DescriptionStyleModel",
          "state": {
            "_view_name": "StyleView",
            "_model_name": "DescriptionStyleModel",
            "description_width": "",
            "_view_module": "@jupyter-widgets/base",
            "_model_module_version": "1.5.0",
            "_view_count": null,
            "_view_module_version": "1.2.0",
            "_model_module": "@jupyter-widgets/controls"
          }
        },
        "698f902a19724d75b0d6b70598e7a3b1": {
          "model_module": "@jupyter-widgets/base",
          "model_name": "LayoutModel",
          "state": {
            "_view_name": "LayoutView",
            "grid_template_rows": null,
            "right": null,
            "justify_content": null,
            "_view_module": "@jupyter-widgets/base",
            "overflow": null,
            "_model_module_version": "1.2.0",
            "_view_count": null,
            "flex_flow": null,
            "width": null,
            "min_width": null,
            "border": null,
            "align_items": null,
            "bottom": null,
            "_model_module": "@jupyter-widgets/base",
            "top": null,
            "grid_column": null,
            "overflow_y": null,
            "overflow_x": null,
            "grid_auto_flow": null,
            "grid_area": null,
            "grid_template_columns": null,
            "flex": null,
            "_model_name": "LayoutModel",
            "justify_items": null,
            "grid_row": null,
            "max_height": null,
            "align_content": null,
            "visibility": null,
            "align_self": null,
            "height": null,
            "min_height": null,
            "padding": null,
            "grid_auto_rows": null,
            "grid_gap": null,
            "max_width": null,
            "order": null,
            "_view_module_version": "1.2.0",
            "grid_template_areas": null,
            "object_position": null,
            "object_fit": null,
            "grid_auto_columns": null,
            "margin": null,
            "display": null,
            "left": null
          }
        },
        "770dfe8b892e43149685c3fa4eac91da": {
          "model_module": "@jupyter-widgets/controls",
          "model_name": "HBoxModel",
          "state": {
            "_view_name": "HBoxView",
            "_dom_classes": [],
            "_model_name": "HBoxModel",
            "_view_module": "@jupyter-widgets/controls",
            "_model_module_version": "1.5.0",
            "_view_count": null,
            "_view_module_version": "1.5.0",
            "box_style": "",
            "layout": "IPY_MODEL_a4294f9901fd4cec8d5f9c27e2727e04",
            "_model_module": "@jupyter-widgets/controls",
            "children": [
              "IPY_MODEL_121791db060c401b89ef68df5d5a7ceb",
              "IPY_MODEL_f2969b09b1ab4e23aeab44bc1dd8e69f"
            ]
          }
        },
        "a4294f9901fd4cec8d5f9c27e2727e04": {
          "model_module": "@jupyter-widgets/base",
          "model_name": "LayoutModel",
          "state": {
            "_view_name": "LayoutView",
            "grid_template_rows": null,
            "right": null,
            "justify_content": null,
            "_view_module": "@jupyter-widgets/base",
            "overflow": null,
            "_model_module_version": "1.2.0",
            "_view_count": null,
            "flex_flow": null,
            "width": null,
            "min_width": null,
            "border": null,
            "align_items": null,
            "bottom": null,
            "_model_module": "@jupyter-widgets/base",
            "top": null,
            "grid_column": null,
            "overflow_y": null,
            "overflow_x": null,
            "grid_auto_flow": null,
            "grid_area": null,
            "grid_template_columns": null,
            "flex": null,
            "_model_name": "LayoutModel",
            "justify_items": null,
            "grid_row": null,
            "max_height": null,
            "align_content": null,
            "visibility": null,
            "align_self": null,
            "height": null,
            "min_height": null,
            "padding": null,
            "grid_auto_rows": null,
            "grid_gap": null,
            "max_width": null,
            "order": null,
            "_view_module_version": "1.2.0",
            "grid_template_areas": null,
            "object_position": null,
            "object_fit": null,
            "grid_auto_columns": null,
            "margin": null,
            "display": null,
            "left": null
          }
        },
        "121791db060c401b89ef68df5d5a7ceb": {
          "model_module": "@jupyter-widgets/controls",
          "model_name": "FloatProgressModel",
          "state": {
            "_view_name": "ProgressView",
            "style": "IPY_MODEL_1e8a547993fd49c5a1173afe29cc5ffb",
            "_dom_classes": [],
            "description": "",
            "_model_name": "FloatProgressModel",
            "bar_style": "success",
            "max": 1,
            "_view_module": "@jupyter-widgets/controls",
            "_model_module_version": "1.5.0",
            "value": 1,
            "_view_count": null,
            "_view_module_version": "1.5.0",
            "orientation": "horizontal",
            "min": 0,
            "description_tooltip": null,
            "_model_module": "@jupyter-widgets/controls",
            "layout": "IPY_MODEL_21028d3d918149f88256ac7a6cfe6f7d"
          }
        },
        "f2969b09b1ab4e23aeab44bc1dd8e69f": {
          "model_module": "@jupyter-widgets/controls",
          "model_name": "HTMLModel",
          "state": {
            "_view_name": "HTMLView",
            "style": "IPY_MODEL_1b55411c4b464bdc926de234bcf2a6ae",
            "_dom_classes": [],
            "description": "",
            "_model_name": "HTMLModel",
            "placeholder": "​",
            "_view_module": "@jupyter-widgets/controls",
            "_model_module_version": "1.5.0",
            "value": " 50581/? [00:44&lt;00:00, 1132.07it/s]",
            "_view_count": null,
            "_view_module_version": "1.5.0",
            "description_tooltip": null,
            "_model_module": "@jupyter-widgets/controls",
            "layout": "IPY_MODEL_64c4b946e5a247f4bdd37f84529541d7"
          }
        },
        "1e8a547993fd49c5a1173afe29cc5ffb": {
          "model_module": "@jupyter-widgets/controls",
          "model_name": "ProgressStyleModel",
          "state": {
            "_view_name": "StyleView",
            "_model_name": "ProgressStyleModel",
            "description_width": "initial",
            "_view_module": "@jupyter-widgets/base",
            "_model_module_version": "1.5.0",
            "_view_count": null,
            "_view_module_version": "1.2.0",
            "bar_color": null,
            "_model_module": "@jupyter-widgets/controls"
          }
        },
        "21028d3d918149f88256ac7a6cfe6f7d": {
          "model_module": "@jupyter-widgets/base",
          "model_name": "LayoutModel",
          "state": {
            "_view_name": "LayoutView",
            "grid_template_rows": null,
            "right": null,
            "justify_content": null,
            "_view_module": "@jupyter-widgets/base",
            "overflow": null,
            "_model_module_version": "1.2.0",
            "_view_count": null,
            "flex_flow": null,
            "width": null,
            "min_width": null,
            "border": null,
            "align_items": null,
            "bottom": null,
            "_model_module": "@jupyter-widgets/base",
            "top": null,
            "grid_column": null,
            "overflow_y": null,
            "overflow_x": null,
            "grid_auto_flow": null,
            "grid_area": null,
            "grid_template_columns": null,
            "flex": null,
            "_model_name": "LayoutModel",
            "justify_items": null,
            "grid_row": null,
            "max_height": null,
            "align_content": null,
            "visibility": null,
            "align_self": null,
            "height": null,
            "min_height": null,
            "padding": null,
            "grid_auto_rows": null,
            "grid_gap": null,
            "max_width": null,
            "order": null,
            "_view_module_version": "1.2.0",
            "grid_template_areas": null,
            "object_position": null,
            "object_fit": null,
            "grid_auto_columns": null,
            "margin": null,
            "display": null,
            "left": null
          }
        },
        "1b55411c4b464bdc926de234bcf2a6ae": {
          "model_module": "@jupyter-widgets/controls",
          "model_name": "DescriptionStyleModel",
          "state": {
            "_view_name": "StyleView",
            "_model_name": "DescriptionStyleModel",
            "description_width": "",
            "_view_module": "@jupyter-widgets/base",
            "_model_module_version": "1.5.0",
            "_view_count": null,
            "_view_module_version": "1.2.0",
            "_model_module": "@jupyter-widgets/controls"
          }
        },
        "64c4b946e5a247f4bdd37f84529541d7": {
          "model_module": "@jupyter-widgets/base",
          "model_name": "LayoutModel",
          "state": {
            "_view_name": "LayoutView",
            "grid_template_rows": null,
            "right": null,
            "justify_content": null,
            "_view_module": "@jupyter-widgets/base",
            "overflow": null,
            "_model_module_version": "1.2.0",
            "_view_count": null,
            "flex_flow": null,
            "width": null,
            "min_width": null,
            "border": null,
            "align_items": null,
            "bottom": null,
            "_model_module": "@jupyter-widgets/base",
            "top": null,
            "grid_column": null,
            "overflow_y": null,
            "overflow_x": null,
            "grid_auto_flow": null,
            "grid_area": null,
            "grid_template_columns": null,
            "flex": null,
            "_model_name": "LayoutModel",
            "justify_items": null,
            "grid_row": null,
            "max_height": null,
            "align_content": null,
            "visibility": null,
            "align_self": null,
            "height": null,
            "min_height": null,
            "padding": null,
            "grid_auto_rows": null,
            "grid_gap": null,
            "max_width": null,
            "order": null,
            "_view_module_version": "1.2.0",
            "grid_template_areas": null,
            "object_position": null,
            "object_fit": null,
            "grid_auto_columns": null,
            "margin": null,
            "display": null,
            "left": null
          }
        },
        "e935cdd9a11046a5ae8333e55a40bc4a": {
          "model_module": "@jupyter-widgets/controls",
          "model_name": "HBoxModel",
          "state": {
            "_view_name": "HBoxView",
            "_dom_classes": [],
            "_model_name": "HBoxModel",
            "_view_module": "@jupyter-widgets/controls",
            "_model_module_version": "1.5.0",
            "_view_count": null,
            "_view_module_version": "1.5.0",
            "box_style": "",
            "layout": "IPY_MODEL_13f3b045bc5f4ad886e86f88280b8c4e",
            "_model_module": "@jupyter-widgets/controls",
            "children": [
              "IPY_MODEL_76a8893c9ec948a5ad5302e665ad6fe3",
              "IPY_MODEL_34f1b2072a504811a415fdb1dd5a68f1"
            ]
          }
        },
        "13f3b045bc5f4ad886e86f88280b8c4e": {
          "model_module": "@jupyter-widgets/base",
          "model_name": "LayoutModel",
          "state": {
            "_view_name": "LayoutView",
            "grid_template_rows": null,
            "right": null,
            "justify_content": null,
            "_view_module": "@jupyter-widgets/base",
            "overflow": null,
            "_model_module_version": "1.2.0",
            "_view_count": null,
            "flex_flow": null,
            "width": null,
            "min_width": null,
            "border": null,
            "align_items": null,
            "bottom": null,
            "_model_module": "@jupyter-widgets/base",
            "top": null,
            "grid_column": null,
            "overflow_y": null,
            "overflow_x": null,
            "grid_auto_flow": null,
            "grid_area": null,
            "grid_template_columns": null,
            "flex": null,
            "_model_name": "LayoutModel",
            "justify_items": null,
            "grid_row": null,
            "max_height": null,
            "align_content": null,
            "visibility": null,
            "align_self": null,
            "height": null,
            "min_height": null,
            "padding": null,
            "grid_auto_rows": null,
            "grid_gap": null,
            "max_width": null,
            "order": null,
            "_view_module_version": "1.2.0",
            "grid_template_areas": null,
            "object_position": null,
            "object_fit": null,
            "grid_auto_columns": null,
            "margin": null,
            "display": null,
            "left": null
          }
        },
        "76a8893c9ec948a5ad5302e665ad6fe3": {
          "model_module": "@jupyter-widgets/controls",
          "model_name": "FloatProgressModel",
          "state": {
            "_view_name": "ProgressView",
            "style": "IPY_MODEL_852adc8af8ca435c8e962a84118b841d",
            "_dom_classes": [],
            "description": "",
            "_model_name": "FloatProgressModel",
            "bar_style": "success",
            "max": 1,
            "_view_module": "@jupyter-widgets/controls",
            "_model_module_version": "1.5.0",
            "value": 1,
            "_view_count": null,
            "_view_module_version": "1.5.0",
            "orientation": "horizontal",
            "min": 0,
            "description_tooltip": null,
            "_model_module": "@jupyter-widgets/controls",
            "layout": "IPY_MODEL_9924b04c7d774b6eae7b317a4f849e4f"
          }
        },
        "34f1b2072a504811a415fdb1dd5a68f1": {
          "model_module": "@jupyter-widgets/controls",
          "model_name": "HTMLModel",
          "state": {
            "_view_name": "HTMLView",
            "style": "IPY_MODEL_9c78a18df95b499e90bb4ba76097184b",
            "_dom_classes": [],
            "description": "",
            "_model_name": "HTMLModel",
            "placeholder": "​",
            "_view_module": "@jupyter-widgets/controls",
            "_model_module_version": "1.5.0",
            "value": " 50340/? [00:27&lt;00:00, 1857.99it/s]",
            "_view_count": null,
            "_view_module_version": "1.5.0",
            "description_tooltip": null,
            "_model_module": "@jupyter-widgets/controls",
            "layout": "IPY_MODEL_a065e981568943c8a60a9542d9849f09"
          }
        },
        "852adc8af8ca435c8e962a84118b841d": {
          "model_module": "@jupyter-widgets/controls",
          "model_name": "ProgressStyleModel",
          "state": {
            "_view_name": "StyleView",
            "_model_name": "ProgressStyleModel",
            "description_width": "initial",
            "_view_module": "@jupyter-widgets/base",
            "_model_module_version": "1.5.0",
            "_view_count": null,
            "_view_module_version": "1.2.0",
            "bar_color": null,
            "_model_module": "@jupyter-widgets/controls"
          }
        },
        "9924b04c7d774b6eae7b317a4f849e4f": {
          "model_module": "@jupyter-widgets/base",
          "model_name": "LayoutModel",
          "state": {
            "_view_name": "LayoutView",
            "grid_template_rows": null,
            "right": null,
            "justify_content": null,
            "_view_module": "@jupyter-widgets/base",
            "overflow": null,
            "_model_module_version": "1.2.0",
            "_view_count": null,
            "flex_flow": null,
            "width": null,
            "min_width": null,
            "border": null,
            "align_items": null,
            "bottom": null,
            "_model_module": "@jupyter-widgets/base",
            "top": null,
            "grid_column": null,
            "overflow_y": null,
            "overflow_x": null,
            "grid_auto_flow": null,
            "grid_area": null,
            "grid_template_columns": null,
            "flex": null,
            "_model_name": "LayoutModel",
            "justify_items": null,
            "grid_row": null,
            "max_height": null,
            "align_content": null,
            "visibility": null,
            "align_self": null,
            "height": null,
            "min_height": null,
            "padding": null,
            "grid_auto_rows": null,
            "grid_gap": null,
            "max_width": null,
            "order": null,
            "_view_module_version": "1.2.0",
            "grid_template_areas": null,
            "object_position": null,
            "object_fit": null,
            "grid_auto_columns": null,
            "margin": null,
            "display": null,
            "left": null
          }
        },
        "9c78a18df95b499e90bb4ba76097184b": {
          "model_module": "@jupyter-widgets/controls",
          "model_name": "DescriptionStyleModel",
          "state": {
            "_view_name": "StyleView",
            "_model_name": "DescriptionStyleModel",
            "description_width": "",
            "_view_module": "@jupyter-widgets/base",
            "_model_module_version": "1.5.0",
            "_view_count": null,
            "_view_module_version": "1.2.0",
            "_model_module": "@jupyter-widgets/controls"
          }
        },
        "a065e981568943c8a60a9542d9849f09": {
          "model_module": "@jupyter-widgets/base",
          "model_name": "LayoutModel",
          "state": {
            "_view_name": "LayoutView",
            "grid_template_rows": null,
            "right": null,
            "justify_content": null,
            "_view_module": "@jupyter-widgets/base",
            "overflow": null,
            "_model_module_version": "1.2.0",
            "_view_count": null,
            "flex_flow": null,
            "width": null,
            "min_width": null,
            "border": null,
            "align_items": null,
            "bottom": null,
            "_model_module": "@jupyter-widgets/base",
            "top": null,
            "grid_column": null,
            "overflow_y": null,
            "overflow_x": null,
            "grid_auto_flow": null,
            "grid_area": null,
            "grid_template_columns": null,
            "flex": null,
            "_model_name": "LayoutModel",
            "justify_items": null,
            "grid_row": null,
            "max_height": null,
            "align_content": null,
            "visibility": null,
            "align_self": null,
            "height": null,
            "min_height": null,
            "padding": null,
            "grid_auto_rows": null,
            "grid_gap": null,
            "max_width": null,
            "order": null,
            "_view_module_version": "1.2.0",
            "grid_template_areas": null,
            "object_position": null,
            "object_fit": null,
            "grid_auto_columns": null,
            "margin": null,
            "display": null,
            "left": null
          }
        }
      }
    }
  },
  "cells": [
    {
      "cell_type": "markdown",
      "metadata": {
        "id": "view-in-github",
        "colab_type": "text"
      },
      "source": [
        "<a href=\"https://colab.research.google.com/github/m3sibti/genomic_datascience/blob/master/PixelMotifGAN.ipynb\" target=\"_parent\"><img src=\"https://colab.research.google.com/assets/colab-badge.svg\" alt=\"Open In Colab\"/></a>"
      ]
    },
    {
      "cell_type": "code",
      "metadata": {
        "id": "SXBqhBfe6uJF",
        "colab_type": "code",
        "colab": {}
      },
      "source": [
        "import urllib\n",
        "import os\n",
        "from tqdm.notebook import tqdm\n",
        "import numpy as np\n",
        "import matplotlib.pyplot as plt\n",
        "import matplotlib.gridspec as gridspec"
      ],
      "execution_count": 1,
      "outputs": []
    },
    {
      "cell_type": "markdown",
      "metadata": {
        "id": "T3UpqoUcMVNe",
        "colab_type": "text"
      },
      "source": [
        "### Data Preparation"
      ]
    },
    {
      "cell_type": "markdown",
      "metadata": {
        "id": "Pw1fNnG_kT6o",
        "colab_type": "text"
      },
      "source": [
        "#### Download links for files"
      ]
    },
    {
      "cell_type": "code",
      "metadata": {
        "id": "HXfggX_LMXS4",
        "colab_type": "code",
        "colab": {}
      },
      "source": [
        "import requests\n",
        "from bs4 import BeautifulSoup"
      ],
      "execution_count": null,
      "outputs": []
    },
    {
      "cell_type": "code",
      "metadata": {
        "id": "3PlS3uNQRltb",
        "colab_type": "code",
        "colab": {}
      },
      "source": [
        "web_main_link = \"http://jaspar.genereg.net\""
      ],
      "execution_count": null,
      "outputs": []
    },
    {
      "cell_type": "markdown",
      "metadata": {
        "id": "z9NYtDdgXaGE",
        "colab_type": "text"
      },
      "source": [
        "Step by step procedure"
      ]
    },
    {
      "cell_type": "code",
      "metadata": {
        "id": "kAc_WGYtMnI8",
        "colab_type": "code",
        "colab": {}
      },
      "source": [
        "'''\n",
        "# make simple request\n",
        "r = requests.get(f\"{web_main_link}/search?\", params= dict(\n",
        "                 page=1,\n",
        "                 q=\"Homo sapiens\",\n",
        "                 tax_group=\"vertebrates\",\n",
        "                 page_size=250,\n",
        "                 collection=\"CORE\"))\n",
        "\n",
        "soup = BeautifulSoup(r.text, \"html.parser\")\n",
        "\n",
        "tags = soup.find(\"table\", id = \"search_table\")\n",
        "\n",
        "tags2 = tags.find_all(\"tr\")\n",
        "len(tags2)\n",
        "\n",
        "rowsWithoutHeader = tags2[1:]\n",
        "len(rowsWithoutHeader)\n",
        "\n",
        "linksToData = []\n",
        "for row in rowsWithoutHeader:\n",
        "  dataItemLink = row.find(\"td\", id='profile_summary').find('a').get('href')\n",
        "  linksToData.append(web_main_link + dataItemLink)\n",
        "\n",
        "linksToData\n",
        "'''"
      ],
      "execution_count": null,
      "outputs": []
    },
    {
      "cell_type": "markdown",
      "metadata": {
        "id": "N6WnOCsyRcMy",
        "colab_type": "text"
      },
      "source": [
        "A Function to extract all the links from the given website"
      ]
    },
    {
      "cell_type": "code",
      "metadata": {
        "id": "IBbF3MNvSp9I",
        "colab_type": "code",
        "colab": {}
      },
      "source": [
        "def getAllDataItemLinks(web_main_link, num_pages,\n",
        "                        filter=\"Homo sapiens\",\n",
        "                        group=\"vertebrates\"):\n",
        "  linksToDownload = []\n",
        "  for i in range(1, num_pages+1):\n",
        "    # make requests\n",
        "    r = requests.get(f\"{web_main_link}/search?\", params= dict(\n",
        "                 page=i,\n",
        "                 q=filter,\n",
        "                 tax_group=group,\n",
        "                 page_size=250,\n",
        "                 collection=\"CORE\"))\n",
        "    \n",
        "    # convert the response to html file\n",
        "    soup = BeautifulSoup(r.text, \"html.parser\")\n",
        "    search_table = soup.find(\"table\", id = \"search_table\")\n",
        "    useful_rows = search_table.find_all(\"tr\")\n",
        "    rowsWithoutHeader = useful_rows[1:]\n",
        "    for row in rowsWithoutHeader:\n",
        "      dataItemLink = row.find(\"td\", id='profile_summary').find('a').get('href')\n",
        "      linksToDownload.append(web_main_link + dataItemLink)\n",
        "\n",
        "  # remove repitions because they were 870 instead of 810\n",
        "  listWithNoRepition = list(dict.fromkeys(linksToDownload))\n",
        "  '''\n",
        "   after this process they remain 810,\n",
        "   which are the number of homo sepian items at the website\n",
        "   '''\n",
        "  return listWithNoRepition\n"
      ],
      "execution_count": null,
      "outputs": []
    },
    {
      "cell_type": "code",
      "metadata": {
        "id": "qP0-hKaFVhyA",
        "colab_type": "code",
        "colab": {
          "base_uri": "https://localhost:8080/",
          "height": 34
        },
        "outputId": "adf97922-5b99-4868-aff8-8b8427a40872"
      },
      "source": [
        "listOfLinks = getAllDataItemLinks(\"http://jaspar.genereg.net\", num_pages=5)\n",
        "len(listOfLinks)"
      ],
      "execution_count": null,
      "outputs": [
        {
          "output_type": "execute_result",
          "data": {
            "text/plain": [
              "810"
            ]
          },
          "metadata": {
            "tags": []
          },
          "execution_count": 83
        }
      ]
    },
    {
      "cell_type": "markdown",
      "metadata": {
        "id": "JUjQu6Cejm5H",
        "colab_type": "text"
      },
      "source": [
        "Gather the downloadable links from data items"
      ]
    },
    {
      "cell_type": "code",
      "metadata": {
        "id": "_99jI-SWeM0j",
        "colab_type": "code",
        "colab": {}
      },
      "source": [
        "downloadableFiles = []\n",
        "\n",
        "for flink in listOfLinks:\n",
        "  r = requests.get(flink)\n",
        "  soup = BeautifulSoup(r.text, \"html.parser\")\n",
        "  body_box = soup.find_all(\"div\", \"box-body\")[4]\n",
        "  itemToGo = body_box.find('a')\n",
        "  if itemToGo != None:\n",
        "    downloadableFiles.append(itemToGo.get('href'))\n"
      ],
      "execution_count": null,
      "outputs": []
    },
    {
      "cell_type": "code",
      "metadata": {
        "id": "A2NWzYtwapW1",
        "colab_type": "code",
        "colab": {
          "base_uri": "https://localhost:8080/",
          "height": 34
        },
        "outputId": "f4566091-bf1d-48d6-8789-108d65990c61"
      },
      "source": [
        "print(f\"we have total {len(downloadableFiles)} downloadable files\")"
      ],
      "execution_count": null,
      "outputs": [
        {
          "output_type": "stream",
          "text": [
            "we have total 323 downloadable files\n"
          ],
          "name": "stdout"
        }
      ]
    },
    {
      "cell_type": "markdown",
      "metadata": {
        "id": "vzLZrL83jzF0",
        "colab_type": "text"
      },
      "source": [
        "Write your data into files"
      ]
    },
    {
      "cell_type": "code",
      "metadata": {
        "id": "jrK79q-yhOqq",
        "colab_type": "code",
        "colab": {}
      },
      "source": [
        "with open('linksToGetMotifs.txt', 'w') as f:\n",
        "    for item in downloadableFiles:\n",
        "        f.write(f\"{web_main_link + item}\\n\")"
      ],
      "execution_count": null,
      "outputs": []
    },
    {
      "cell_type": "markdown",
      "metadata": {
        "id": "nhX_I-FQj1sY",
        "colab_type": "text"
      },
      "source": [
        "Downloadable files"
      ]
    },
    {
      "cell_type": "code",
      "metadata": {
        "id": "lopQ3wo8hTfa",
        "colab_type": "code",
        "colab": {}
      },
      "source": [
        "webLinks = [web_main_link + item for item in downloadableFiles]"
      ],
      "execution_count": null,
      "outputs": []
    },
    {
      "cell_type": "code",
      "metadata": {
        "id": "6y5F43d7kCn5",
        "colab_type": "code",
        "colab": {
          "base_uri": "https://localhost:8080/",
          "height": 34
        },
        "outputId": "2239afdc-3b7e-4a51-a519-6a98f57913e3"
      },
      "source": [
        "len(webLinks)"
      ],
      "execution_count": null,
      "outputs": [
        {
          "output_type": "execute_result",
          "data": {
            "text/plain": [
              "323"
            ]
          },
          "metadata": {
            "tags": []
          },
          "execution_count": 162
        }
      ]
    },
    {
      "cell_type": "markdown",
      "metadata": {
        "id": "RIpMvrXMkO4D",
        "colab_type": "text"
      },
      "source": [
        "#### Visit Links"
      ]
    },
    {
      "cell_type": "code",
      "metadata": {
        "colab_type": "code",
        "id": "7zyeMpk3kbZX",
        "colab": {
          "base_uri": "https://localhost:8080/",
          "height": 34
        },
        "outputId": "39af1c27-2818-436c-ddc0-eee27ed97877"
      },
      "source": [
        "# len(webLinks)"
      ],
      "execution_count": null,
      "outputs": [
        {
          "output_type": "execute_result",
          "data": {
            "text/plain": [
              "323"
            ]
          },
          "metadata": {
            "tags": []
          },
          "execution_count": 163
        }
      ]
    },
    {
      "cell_type": "markdown",
      "metadata": {
        "id": "692UJwyE0GS-",
        "colab_type": "text"
      },
      "source": [
        "Downlad File"
      ]
    },
    {
      "cell_type": "code",
      "metadata": {
        "id": "Hs4XCc570KHi",
        "colab_type": "code",
        "colab": {}
      },
      "source": [
        "!wget -O motifLinks.txt -q \"https://nustedupk0-my.sharepoint.com/:t:/g/personal/smalik_mscse18_rcms_nust_edu_pk/EWa8FZcPR2tEuQ-R9HCUJOMBoXmW5HC-90yFk07rFYD5Ng?e=L5JLSZ&download=1\""
      ],
      "execution_count": 2,
      "outputs": []
    },
    {
      "cell_type": "code",
      "metadata": {
        "id": "iYYWOMpa1QC5",
        "colab_type": "code",
        "colab": {
          "base_uri": "https://localhost:8080/",
          "height": 34
        },
        "outputId": "d22ce2b0-cfac-442f-a23a-fc490fb14e31"
      },
      "source": [
        "f = open(\"motifLinks.txt\", 'r')\n",
        "motifLinks = f.read().split('\\n')\n",
        "motifLinks = motifLinks[:-1]\n",
        "print(f'we have total {len(motifLinks)} links')"
      ],
      "execution_count": 3,
      "outputs": [
        {
          "output_type": "stream",
          "text": [
            "we have total 323 links\n"
          ],
          "name": "stdout"
        }
      ]
    },
    {
      "cell_type": "markdown",
      "metadata": {
        "id": "hSxyUkbC861M",
        "colab_type": "text"
      },
      "source": [
        "##### Get Motifs from HTML"
      ]
    },
    {
      "cell_type": "markdown",
      "metadata": {
        "id": "bMCGokHwqzAQ",
        "colab_type": "text"
      },
      "source": [
        "A Function to get motifs using `how_many`"
      ]
    },
    {
      "cell_type": "code",
      "metadata": {
        "id": "NHnWHhHpo48G",
        "colab_type": "code",
        "colab": {}
      },
      "source": [
        "def getMotif(webLinks, how_many=1):\n",
        "\n",
        "  def getProperMotifs(linkToVisit):\n",
        "    r = requests.get(linkToVisit)\n",
        "    soup = BeautifulSoup(r.text, 'html.parser')\n",
        "    allMotifs = soup.find_all('pre')\n",
        "    return allMotifs\n",
        "\n",
        "  if how_many == 1:\n",
        "    firstLink = webLinks[0]\n",
        "    allMotifs = getProperMotifs(firstLink)\n",
        "    myMotifs = [l.text for l in allMotifs if len(l.text) > 2]\n",
        "    return myMotifs\n",
        "\n",
        "  else:\n",
        "    motifLists = []\n",
        "    for mLink in webLinks[:how_many]:\n",
        "      collectionName = mLink.split('/')[4]\n",
        "      allMotifs = getProperMotifs(mLink)\n",
        "      myMotifs = [l.text for l in allMotifs if len(l.text) > 2]\n",
        "      motifLists.append({collectionName: myMotifs})\n",
        "    return motifLists\n"
      ],
      "execution_count": null,
      "outputs": []
    },
    {
      "cell_type": "markdown",
      "metadata": {
        "id": "RKZM_rAdq-cM",
        "colab_type": "text"
      },
      "source": [
        "use this function to make a call for them"
      ]
    },
    {
      "cell_type": "code",
      "metadata": {
        "id": "KndyTyJJksSL",
        "colab_type": "code",
        "colab": {}
      },
      "source": [
        "# motifLists = getMotif(motifLinks, how_many=1)"
      ],
      "execution_count": null,
      "outputs": []
    },
    {
      "cell_type": "markdown",
      "metadata": {
        "id": "FlE1qD4B9CGS",
        "colab_type": "text"
      },
      "source": [
        "##### Download Motif Files"
      ]
    },
    {
      "cell_type": "markdown",
      "metadata": {
        "id": "wNunBQ8c5REz",
        "colab_type": "text"
      },
      "source": [
        "Create downloadable links"
      ]
    },
    {
      "cell_type": "code",
      "metadata": {
        "id": "WcJco_gY5KPJ",
        "colab_type": "code",
        "colab": {}
      },
      "source": [
        "def createDownloadLinks(motifLinks):\n",
        "  motifDownloableLinks = []\n",
        "  for li in motifLinks:\n",
        "     nl = li.split('/')\n",
        "     nl.insert(3, 'download')\n",
        "     nl[-1] = nl[-1] + '.sites'\n",
        "     separter = '/'\n",
        "     downloadableLink = separter.join(nl)\n",
        "     motifDownloableLinks.append(downloadableLink)\n",
        "\n",
        "  return motifDownloableLinks"
      ],
      "execution_count": 4,
      "outputs": []
    },
    {
      "cell_type": "code",
      "metadata": {
        "id": "3tgxvmYp4vI-",
        "colab_type": "code",
        "colab": {
          "base_uri": "https://localhost:8080/",
          "height": 51
        },
        "outputId": "09591ab8-74d9-43be-e8e3-fd9a8a26b06f"
      },
      "source": [
        "downloadableLinks = createDownloadLinks(motifLinks)\n",
        "print('A single link look alike: \\n',downloadableLinks[0])"
      ],
      "execution_count": 5,
      "outputs": [
        {
          "output_type": "stream",
          "text": [
            "A single link look alike: \n",
            " http://jaspar.genereg.net/download/sites/MA0007.2.sites\n"
          ],
          "name": "stdout"
        }
      ]
    },
    {
      "cell_type": "markdown",
      "metadata": {
        "id": "qhyAr9NS6jNK",
        "colab_type": "text"
      },
      "source": [
        "Download Files"
      ]
    },
    {
      "cell_type": "code",
      "metadata": {
        "id": "wwPElivT6lw9",
        "colab_type": "code",
        "colab": {
          "base_uri": "https://localhost:8080/",
          "height": 83,
          "referenced_widgets": [
            "a16e72cbb563462791bc55877e7eadd7",
            "cb335aff06844f41a6b574b7ef3c61d2",
            "d722e4396386417dadf5bcab513cd6b2",
            "52914f3e69784a29821a8b3f85ab8359",
            "a804fea52e514663b1d1570716fbba15",
            "802ff7edbdef4d29b473211b1aca87d1",
            "29cd0da4a8494e87b002854cf51bea5a",
            "698f902a19724d75b0d6b70598e7a3b1"
          ]
        },
        "outputId": "785645b2-7f0f-4daf-84b4-746ab3ef3897"
      },
      "source": [
        "# download files for motif dataset\n",
        "\n",
        "# set the directory name\n",
        "dir_name = 'data_files'\n",
        "# create the directory if not already\n",
        "os.makedirs(dir_name, exist_ok=True)\n",
        "\n",
        "# currently downloading only 10 files - change it according to your requirement,\n",
        "print('Downloading 100 Motif Files....')\n",
        "for ilink in tqdm(downloadableLinks[:100]):\n",
        "  fileName = ilink.split('.sites')[0].split('/')[-1]\n",
        "  urllib.request.urlretrieve(ilink, f'{dir_name}/{fileName}.txt')"
      ],
      "execution_count": 6,
      "outputs": [
        {
          "output_type": "stream",
          "text": [
            "Downloading 10 Motif Files....\n"
          ],
          "name": "stdout"
        },
        {
          "output_type": "display_data",
          "data": {
            "application/vnd.jupyter.widget-view+json": {
              "model_id": "a16e72cbb563462791bc55877e7eadd7",
              "version_minor": 0,
              "version_major": 2
            },
            "text/plain": [
              "HBox(children=(FloatProgress(value=0.0), HTML(value='')))"
            ]
          },
          "metadata": {
            "tags": []
          }
        },
        {
          "output_type": "stream",
          "text": [
            "\n"
          ],
          "name": "stdout"
        }
      ]
    },
    {
      "cell_type": "code",
      "metadata": {
        "id": "XbvWit--8rRQ",
        "colab_type": "code",
        "colab": {}
      },
      "source": [
        "# remove data files when not needed\n",
        "# !rm -r data_files"
      ],
      "execution_count": null,
      "outputs": []
    },
    {
      "cell_type": "markdown",
      "metadata": {
        "id": "voTySKcAINpT",
        "colab_type": "text"
      },
      "source": [
        "#### Extract data from files"
      ]
    },
    {
      "cell_type": "code",
      "metadata": {
        "id": "ljAES2OLIUek",
        "colab_type": "code",
        "colab": {
          "base_uri": "https://localhost:8080/",
          "height": 1000
        },
        "outputId": "f5f8eabc-d0d9-4f54-8266-915d05b09d0b"
      },
      "source": [
        "file_paths = sorted([ dir_name+\"/\"+f for f in os.listdir(dir_name) ])\n",
        "file_paths"
      ],
      "execution_count": 7,
      "outputs": [
        {
          "output_type": "execute_result",
          "data": {
            "text/plain": [
              "['data_files/MA0007.2.txt',\n",
              " 'data_files/MA0018.1.txt',\n",
              " 'data_files/MA0018.2.txt',\n",
              " 'data_files/MA0018.3.txt',\n",
              " 'data_files/MA0018.4.txt',\n",
              " 'data_files/MA0024.1.txt',\n",
              " 'data_files/MA0024.2.txt',\n",
              " 'data_files/MA0028.1.txt',\n",
              " 'data_files/MA0030.1.txt',\n",
              " 'data_files/MA0031.1.txt',\n",
              " 'data_files/MA0035.4.txt',\n",
              " 'data_files/MA0036.1.txt',\n",
              " 'data_files/MA0036.2.txt',\n",
              " 'data_files/MA0036.3.txt',\n",
              " 'data_files/MA0037.1.txt',\n",
              " 'data_files/MA0037.2.txt',\n",
              " 'data_files/MA0043.1.txt',\n",
              " 'data_files/MA0043.3.txt',\n",
              " 'data_files/MA0047.3.txt',\n",
              " 'data_files/MA0062.1.txt',\n",
              " 'data_files/MA0062.3.txt',\n",
              " 'data_files/MA0076.1.txt',\n",
              " 'data_files/MA0076.2.txt',\n",
              " 'data_files/MA0098.1.txt',\n",
              " 'data_files/MA0099.2.txt',\n",
              " 'data_files/MA0102.3.txt',\n",
              " 'data_files/MA0102.4.txt',\n",
              " 'data_files/MA0112.1.txt',\n",
              " 'data_files/MA0112.2.txt',\n",
              " 'data_files/MA0131.1.txt',\n",
              " 'data_files/MA0139.1.txt',\n",
              " 'data_files/MA0140.2.txt',\n",
              " 'data_files/MA0148.1.txt',\n",
              " 'data_files/MA0148.3.txt',\n",
              " 'data_files/MA0148.4.txt',\n",
              " 'data_files/MA0149.1.txt',\n",
              " 'data_files/MA0154.2.txt',\n",
              " 'data_files/MA0154.4.txt',\n",
              " 'data_files/MA0156.1.txt',\n",
              " 'data_files/MA0157.1.txt',\n",
              " 'data_files/MA0162.2.txt',\n",
              " 'data_files/MA0162.4.txt',\n",
              " 'data_files/MA0258.1.txt',\n",
              " 'data_files/MA0258.2.txt',\n",
              " 'data_files/MA0259.1.txt',\n",
              " 'data_files/MA0462.1.txt',\n",
              " 'data_files/MA0462.2.txt',\n",
              " 'data_files/MA0465.1.txt',\n",
              " 'data_files/MA0465.2.txt',\n",
              " 'data_files/MA0466.1.txt',\n",
              " 'data_files/MA0468.1.txt',\n",
              " 'data_files/MA0470.1.txt',\n",
              " 'data_files/MA0471.1.txt',\n",
              " 'data_files/MA0471.2.txt',\n",
              " 'data_files/MA0473.1.txt',\n",
              " 'data_files/MA0473.3.txt',\n",
              " 'data_files/MA0475.1.txt',\n",
              " 'data_files/MA0476.1.txt',\n",
              " 'data_files/MA0477.1.txt',\n",
              " 'data_files/MA0477.2.txt',\n",
              " 'data_files/MA0478.1.txt',\n",
              " 'data_files/MA0479.1.txt',\n",
              " 'data_files/MA0481.1.txt',\n",
              " 'data_files/MA0481.2.txt',\n",
              " 'data_files/MA0481.3.txt',\n",
              " 'data_files/MA0482.2.txt',\n",
              " 'data_files/MA0592.1.txt',\n",
              " 'data_files/MA0592.3.txt',\n",
              " 'data_files/MA0593.1.txt',\n",
              " 'data_files/MA0598.1.txt',\n",
              " 'data_files/MA0598.3.txt',\n",
              " 'data_files/MA0609.2.txt',\n",
              " 'data_files/MA0640.2.txt',\n",
              " 'data_files/MA0761.2.txt',\n",
              " 'data_files/MA0764.2.txt',\n",
              " 'data_files/MA0765.2.txt',\n",
              " 'data_files/MA0833.2.txt',\n",
              " 'data_files/MA0835.2.txt',\n",
              " 'data_files/MA0836.2.txt',\n",
              " 'data_files/MA0852.2.txt',\n",
              " 'data_files/MA1100.1.txt',\n",
              " 'data_files/MA1101.1.txt',\n",
              " 'data_files/MA1102.1.txt',\n",
              " 'data_files/MA1102.2.txt',\n",
              " 'data_files/MA1103.1.txt',\n",
              " 'data_files/MA1103.2.txt',\n",
              " 'data_files/MA1104.1.txt',\n",
              " 'data_files/MA1104.2.txt',\n",
              " 'data_files/MA1105.1.txt',\n",
              " 'data_files/MA1105.2.txt',\n",
              " 'data_files/MA1106.1.txt',\n",
              " 'data_files/MA1631.1.txt',\n",
              " 'data_files/MA1632.1.txt',\n",
              " 'data_files/MA1633.1.txt',\n",
              " 'data_files/MA1634.1.txt',\n",
              " 'data_files/MA1635.1.txt',\n",
              " 'data_files/MA1636.1.txt',\n",
              " 'data_files/MA1637.1.txt',\n",
              " 'data_files/MA1638.1.txt',\n",
              " 'data_files/MA1683.1.txt']"
            ]
          },
          "metadata": {
            "tags": []
          },
          "execution_count": 7
        }
      ]
    },
    {
      "cell_type": "markdown",
      "metadata": {
        "id": "DKORnd8koNTt",
        "colab_type": "text"
      },
      "source": [
        "Working on a single file"
      ]
    },
    {
      "cell_type": "code",
      "metadata": {
        "id": "F4Y2oVFKIatZ",
        "colab_type": "code",
        "colab": {
          "base_uri": "https://localhost:8080/",
          "height": 51
        },
        "outputId": "6f7ac0b4-5792-4ed2-9cc9-a82a9322ecb5"
      },
      "source": [
        "#first_path = file_paths[0]\n",
        "pos_files, neg_files = list(), list()\n",
        "for fpath in file_paths:\n",
        "  file_data = open(fpath, 'r')\n",
        "  pos_ix = list()\n",
        "  neg_ix = list()\n",
        "  t_data = file_data.read().split('>')[1:]\n",
        "  for i, xi in enumerate(t_data):\n",
        "    if '(+)' in xi:\n",
        "      pos_ix.append(i)\n",
        "    elif '(-)' in xi:\n",
        "      neg_ix.append(i)\n",
        "  pos_files.append([t_data[i] for i in pos_ix])\n",
        "  neg_files.append([t_data[i] for i in neg_ix])\n",
        "\n",
        "  # x_pos = [t_data[i] for i in pos_ix]\n",
        "  # x_neg = [t_data[i] for i in neg_ix]\n",
        "x_pos = sum(pos_files, [])\n",
        "x_neg = sum(neg_files, [])\n",
        "print(f'{len(x_pos)} Postives\\n{len(x_neg)} Negatives')"
      ],
      "execution_count": 8,
      "outputs": [
        {
          "output_type": "stream",
          "text": [
            "1785019 Postives\n",
            "1784738 Negatives\n"
          ],
          "name": "stdout"
        }
      ]
    },
    {
      "cell_type": "code",
      "metadata": {
        "id": "0zdL7DZ1-rCr",
        "colab_type": "code",
        "colab": {
          "base_uri": "https://localhost:8080/",
          "height": 51
        },
        "outputId": "f61352cf-840d-49dd-f761-218237961620"
      },
      "source": [
        "def get_useful_data(mf):\n",
        "  m_data = [ k \n",
        "            for f in mf\n",
        "            for k in f.split('\\n')\n",
        "            if not k.startswith('h')]\n",
        "  combine_data = ''.join(m_data)\n",
        "  print(f'we have total {len(combine_data)} alphabets.')\n",
        "  return combine_data\n",
        "\n",
        "pos_data = get_useful_data(x_pos)\n",
        "neg_data = get_useful_data(x_neg)"
      ],
      "execution_count": 9,
      "outputs": [
        {
          "output_type": "stream",
          "text": [
            "we have total 39655632 alphabets.\n",
            "we have total 39466849 alphabets.\n"
          ],
          "name": "stdout"
        }
      ]
    },
    {
      "cell_type": "markdown",
      "metadata": {
        "id": "A1JFLBBSoS3c",
        "colab_type": "text"
      },
      "source": [
        "Define Image Data for conversion"
      ]
    },
    {
      "cell_type": "code",
      "metadata": {
        "id": "7U-OoHLZKJEY",
        "colab_type": "code",
        "colab": {
          "base_uri": "https://localhost:8080/",
          "height": 68
        },
        "outputId": "21db77e5-9461-41c5-f2dd-cf1a76aa5064"
      },
      "source": [
        "img_shape = (28, 28)\n",
        "img_size = img_shape[0]*img_shape[1]\n",
        "total_pos_imgs = len(pos_data) // img_size\n",
        "total_neg_imgs = len(neg_data) // img_size\n",
        "\n",
        "print(f\"Our image size {img_shape[0]} * {img_shape[1]} = \", img_size)\n",
        "print(\"total postive images from these file =\",total_pos_imgs)\n",
        "print(\"total negative images from these file =\",total_neg_imgs)"
      ],
      "execution_count": 10,
      "outputs": [
        {
          "output_type": "stream",
          "text": [
            "Our image size 28 * 28 =  784\n",
            "total postive images from these file = 50581\n",
            "total negative images from these file = 50340\n"
          ],
          "name": "stdout"
        }
      ]
    },
    {
      "cell_type": "code",
      "metadata": {
        "id": "ShTtACinKSq7",
        "colab_type": "code",
        "colab": {
          "base_uri": "https://localhost:8080/",
          "height": 139
        },
        "outputId": "9a0c1143-6a03-4502-ff46-d364d63ce484"
      },
      "source": [
        "pos_imgs_data = []\n",
        "neg_imgs_data = []\n",
        "for i in range(total_pos_imgs):\n",
        "  start = i * img_size\n",
        "  end = (i+1) * img_size\n",
        "  pos_imgs_data.append(pos_data[start:end])\n",
        "\n",
        "for i in range(total_neg_imgs):\n",
        "  start = i * img_size\n",
        "  end = (i+1) * img_size\n",
        "  neg_imgs_data.append(neg_data[start:end])\n",
        "\n",
        "print('\\nA postive image look like:\\n',pos_imgs_data[0])\n",
        "print('\\nA negative image look like:\\n',neg_imgs_data[0])"
      ],
      "execution_count": 11,
      "outputs": [
        {
          "output_type": "stream",
          "text": [
            "\n",
            "A postive image look like:\n",
            " aacaatctcactcaaagatggatatgatgattttatgagacttttcagagAGGAACAGAGTGTTCtgtttgcatagagaatagtcacattgtgttaggagcatgctgttactatttccagctcattcacctttaactcaggcttttcatggggctgggctgcctcAGGAACAGAGTGTTCagccaaagcacagcttcacctctctcctcctggccttatctgatctggccatagaagtggtcctacagctgtgtgcaggaaggctgtatattttaacaagAGGAACAGAGTGTGCtgttgagaatagaggacaatgaattaagaatcgggcctagaaaacactgggatttctataaattctctttgatttagaaccatacttgtattctctacctAGGAACAGAGTGTTCctattgattgtttaaaaagaggaaacttcttgaacacagctgagtactgagatgcatttcccccatttaggaattacaactcaggaagaaacattctaaaAGGAACAGACTGTTCctttgagtgtcagaagccacaataaatatttttacagtagaatctaaatagcggggccagtgccttccgttttctggagaatgatgagtcgtagatgaaaAAGAACAGAGTGTGCtggacaatacccaagagttattcagaacaagcaaatgtgttcctgggcagttaataaatttcaaaacttggaacaatgttagatttacaaaaacgtcagaAAGAACAGAGTGTTCctgtttattctttatatagcctttttttt\n",
            "\n",
            "A negative image look like:\n",
            " aaagttgtgttaaaaaattaataatcttgtaatgcactatttggaaacgtAGGAACAGAGTGTGCagtcaactcagccagcagtgtttgaattagcctcagagacagaggcttgtatagctgtcctttactgcgtggctggccccgtgccatggggcagtgtgttAGGAACAGAGTGTGCatttgttctcatcttttcaacaacccttgggctgaatgggactctatccgttgaattttttctaaatgttcttatattaagcctttgtcagaactggaggAGGAACAGAGTGTTCcaaagccttggacccatgacaaaaatctcttcttctgaatttttcatcattcctgcaggcctgtgtagagagccctcagcggggcgggaggatgtgaggaAAGAACAGAGTGTTCcaggcagaacaaagccagctgcaaatttgctcaggccctttcgtttcttcctgccacattaccacctgtgttactgggaaaagggagaactgatgctgggAGGAACAGCGTGTTCctacgccggcccggcatggcggggacatgtctgcagcagggagaggtggcgccaaaaaataccaaggaacatctgaagccaacagaagcaggaagaggcaAAGAACAGACTGTTCcttagagctttcgcaagtactgcagccctaccgacaccttgatgtcagacctgatcggcagttgcttctgaaacattggcttcggggagtgcaaagaaaaAGGAACAGGGTGTGCtgaggcaggattttgaagtaactctttaa\n"
          ],
          "name": "stdout"
        }
      ]
    },
    {
      "cell_type": "markdown",
      "metadata": {
        "id": "kokBsiv8Qxy9",
        "colab_type": "text"
      },
      "source": [
        "Functions to encode and decode characters into numerical values"
      ]
    },
    {
      "cell_type": "code",
      "metadata": {
        "id": "xvvrE3bQMvSb",
        "colab_type": "code",
        "colab": {}
      },
      "source": [
        "def giveNumberAgainstChar(char):\n",
        "  if char == 'a':\n",
        "    return 0\n",
        "  elif char == 'c':\n",
        "    return 85\n",
        "  elif char == 't':\n",
        "    return 170\n",
        "  elif char == 'g':\n",
        "    return 255\n",
        "\n",
        "def giveCharAgainstNumber(n):\n",
        "  if n is 0:\n",
        "    return 'a'\n",
        "  elif n is 85:\n",
        "    return 'c'\n",
        "  elif n is 170:\n",
        "    return 't'\n",
        "  elif n is 255:\n",
        "    return 'g'"
      ],
      "execution_count": 12,
      "outputs": []
    },
    {
      "cell_type": "code",
      "metadata": {
        "id": "J40p8XKCjmpG",
        "colab_type": "code",
        "colab": {}
      },
      "source": [
        "# checking the range\n",
        "# (0 - 127.5)/127.5, (85 - 127.5)/127.5,(170 - 127.5)/127.5,(255 - 127.5)/127.5"
      ],
      "execution_count": 13,
      "outputs": []
    },
    {
      "cell_type": "markdown",
      "metadata": {
        "id": "S8F68D2EStMb",
        "colab_type": "text"
      },
      "source": [
        "#### Create Image Data and Visualize"
      ]
    },
    {
      "cell_type": "markdown",
      "metadata": {
        "id": "rgcNZmF6Rgpp",
        "colab_type": "text"
      },
      "source": [
        "Create a training batch"
      ]
    },
    {
      "cell_type": "code",
      "metadata": {
        "id": "Hvbtu98PMb-Z",
        "colab_type": "code",
        "colab": {
          "base_uri": "https://localhost:8080/",
          "height": 200,
          "referenced_widgets": [
            "770dfe8b892e43149685c3fa4eac91da",
            "a4294f9901fd4cec8d5f9c27e2727e04",
            "121791db060c401b89ef68df5d5a7ceb",
            "f2969b09b1ab4e23aeab44bc1dd8e69f",
            "1e8a547993fd49c5a1173afe29cc5ffb",
            "21028d3d918149f88256ac7a6cfe6f7d",
            "1b55411c4b464bdc926de234bcf2a6ae",
            "64c4b946e5a247f4bdd37f84529541d7",
            "e935cdd9a11046a5ae8333e55a40bc4a",
            "13f3b045bc5f4ad886e86f88280b8c4e",
            "76a8893c9ec948a5ad5302e665ad6fe3",
            "34f1b2072a504811a415fdb1dd5a68f1",
            "852adc8af8ca435c8e962a84118b841d",
            "9924b04c7d774b6eae7b317a4f849e4f",
            "9c78a18df95b499e90bb4ba76097184b",
            "a065e981568943c8a60a9542d9849f09"
          ]
        },
        "outputId": "2f0558f6-c125-4a0b-a012-ba90e55293ba"
      },
      "source": [
        "# full training images\n",
        "# positive\n",
        "x_pos_train_pix = np.empty(shape=(total_pos_imgs, 28, 28, 1))\n",
        "x_pos_train_chr = np.empty(shape=(total_pos_imgs, 28, 28), dtype='str')\n",
        "# negative\n",
        "x_neg_train_pix = np.empty(shape=(total_neg_imgs, 28, 28, 1))\n",
        "x_neg_train_chr = np.empty(shape=(total_neg_imgs, 28, 28), dtype='str')\n",
        "\n",
        "print('Creating positive images..')\n",
        "for i, img_data in tqdm(enumerate(pos_imgs_data)):\n",
        "  # convert strings to lower case\n",
        "  img_data = img_data.lower()\n",
        "  # convert characters into numbers\n",
        "  x_pos_train_pix[i] = np.asarray([giveNumberAgainstChar(i) for i in img_data]).reshape(28, 28, 1)\n",
        "  x_pos_train_chr[i] = np.asarray([list(img_data)]).reshape(28, 28)\n",
        "\n",
        "print('Creating negative images..')\n",
        "for i, img_data in tqdm(enumerate(neg_imgs_data)):\n",
        "  # convert strings to lower case\n",
        "  img_data = img_data.lower()\n",
        "  # convert characters into numbers\n",
        "  x_neg_train_pix[i] = np.asarray([giveNumberAgainstChar(i) for i in img_data]).reshape(28, 28, 1)\n",
        "  x_neg_train_chr[i] = np.asarray([list(img_data)]).reshape(28, 28)\n",
        "\n",
        "# print shapes\n",
        "print('\\nShapes of positive array',x_pos_train_pix.shape, x_pos_train_chr.shape)\n",
        "print('Shapes of negative array', x_neg_train_pix.shape, x_neg_train_chr.shape)"
      ],
      "execution_count": 14,
      "outputs": [
        {
          "output_type": "stream",
          "text": [
            "Creating positive images..\n"
          ],
          "name": "stdout"
        },
        {
          "output_type": "display_data",
          "data": {
            "application/vnd.jupyter.widget-view+json": {
              "model_id": "770dfe8b892e43149685c3fa4eac91da",
              "version_minor": 0,
              "version_major": 2
            },
            "text/plain": [
              "HBox(children=(FloatProgress(value=1.0, bar_style='info', max=1.0), HTML(value='')))"
            ]
          },
          "metadata": {
            "tags": []
          }
        },
        {
          "output_type": "stream",
          "text": [
            "\n",
            "Creating negative images..\n"
          ],
          "name": "stdout"
        },
        {
          "output_type": "display_data",
          "data": {
            "application/vnd.jupyter.widget-view+json": {
              "model_id": "e935cdd9a11046a5ae8333e55a40bc4a",
              "version_minor": 0,
              "version_major": 2
            },
            "text/plain": [
              "HBox(children=(FloatProgress(value=1.0, bar_style='info', max=1.0), HTML(value='')))"
            ]
          },
          "metadata": {
            "tags": []
          }
        },
        {
          "output_type": "stream",
          "text": [
            "\n",
            "\n",
            "Shapes of positive array (50581, 28, 28, 1) (50581, 28, 28)\n",
            "Shapes of negative array (50340, 28, 28, 1) (50340, 28, 28)\n"
          ],
          "name": "stdout"
        }
      ]
    },
    {
      "cell_type": "markdown",
      "metadata": {
        "id": "DznWmysWUoKp",
        "colab_type": "text"
      },
      "source": [
        "Save pos/neg images to use them later"
      ]
    },
    {
      "cell_type": "code",
      "metadata": {
        "id": "C_3N7wBzD_NF",
        "colab_type": "code",
        "colab": {}
      },
      "source": [
        "# np.savez_compressed('pos_motifs.npz',x_pos_train_pix, x_pos_train_chr)\n",
        "# np.savez_compressed('neg_motifs.npz',x_neg_train_pix, x_neg_train_chr)"
      ],
      "execution_count": 25,
      "outputs": []
    },
    {
      "cell_type": "markdown",
      "metadata": {
        "id": "HyJ9w3wRUGaK",
        "colab_type": "text"
      },
      "source": [
        "#### Work on Prepared Training Data"
      ]
    },
    {
      "cell_type": "markdown",
      "metadata": {
        "colab_type": "text",
        "id": "1z5SUJAeYheW"
      },
      "source": [
        "Functions to encode and decode characters into numerical values"
      ]
    },
    {
      "cell_type": "code",
      "metadata": {
        "colab_type": "code",
        "id": "Mcre2kVqYfUj",
        "colab": {}
      },
      "source": [
        "def giveNumberAgainstChar(char):\n",
        "  if char == 'a':\n",
        "    return 0\n",
        "  elif char == 'c':\n",
        "    return 85\n",
        "  elif char == 't':\n",
        "    return 170\n",
        "  elif char == 'g':\n",
        "    return 255\n",
        "\n",
        "def giveCharAgainstNumber(n):\n",
        "  if n is 0:\n",
        "    return 'a'\n",
        "  elif n is 85:\n",
        "    return 'c'\n",
        "  elif n is 170:\n",
        "    return 't'\n",
        "  elif n is 255:\n",
        "    return 'g'"
      ],
      "execution_count": 2,
      "outputs": []
    },
    {
      "cell_type": "markdown",
      "metadata": {
        "id": "yxNC0oDLRjDR",
        "colab_type": "text"
      },
      "source": [
        "Display top images from training batch "
      ]
    },
    {
      "cell_type": "code",
      "metadata": {
        "id": "NlSGeh72L4ce",
        "colab_type": "code",
        "colab": {}
      },
      "source": [
        "def show_images(img_list):\n",
        "  plt.figure(figsize=(10, 10))\n",
        "  for i in range(25):\n",
        "    plt.subplot(5, 5, i+1)\n",
        "    plt.xticks([])\n",
        "    plt.yticks([])\n",
        "    plt.grid(False)\n",
        "    plt.title(str(i+1))\n",
        "    plt.xlabel(imgs_data[i][:28])\n",
        "    plt.imshow(img_list[i,...,0], cmap='binary')\n",
        "\n",
        "def show_coupled(n_rows=2, n_cols=2, data=None, title=None):\n",
        "  \n",
        "  def convert_text(xi):\n",
        "    m_ch_arr = list()\n",
        "    for im in xi:\n",
        "      marr = ''.join(im)\n",
        "      m_ch_arr.append(marr)\n",
        "    kik = '\\n'.join(m_ch_arr)\n",
        "    return kik\n",
        "\n",
        "  x, y = data\n",
        "  \n",
        "  total_plots = n_rows*n_cols\n",
        "  fig = plt.figure(figsize=(10, 8))\n",
        "  fig.suptitle(title, fontsize=16)\n",
        "  outer = gridspec.GridSpec(n_rows, n_cols, wspace=0.2, hspace=0.2)\n",
        "  \n",
        "  for i in range(total_plots):\n",
        "    inner = gridspec.GridSpecFromSubplotSpec(1, 2,\n",
        "                    subplot_spec=outer[i], wspace=0.1, hspace=0.1)\n",
        "    for j in range(2):\n",
        "      ax = plt.Subplot(fig, inner[j])\n",
        "      ax.axis('off')\n",
        "      if j == 0:\n",
        "        t = ax.imshow(x[i, ..., 0], cmap='gray')\n",
        "        ax.set_title('Image Motif', y=1.2)\n",
        "      else:\n",
        "        ax.set_title('Texual Motif', y=1.2)\n",
        "        ax.text(14, 14, convert_text(y[i]),\n",
        "                size='xx-small',\n",
        "                ha='center', va='center',\n",
        "                backgroundcolor='white')\n",
        "        ax.imshow(np.zeros((28,28)), cmap='gray_r')\n",
        "      fig.add_subplot(ax)"
      ],
      "execution_count": 3,
      "outputs": []
    },
    {
      "cell_type": "markdown",
      "metadata": {
        "id": "5CC7w-1PUCfl",
        "colab_type": "text"
      },
      "source": [
        "**Load Stored Array**"
      ]
    },
    {
      "cell_type": "markdown",
      "metadata": {
        "id": "r7ZCHloxYtmU",
        "colab_type": "text"
      },
      "source": [
        "Download data files"
      ]
    },
    {
      "cell_type": "code",
      "metadata": {
        "id": "uDvkQLn0YsiN",
        "colab_type": "code",
        "colab": {}
      },
      "source": [
        "!wget -O pos_motifs.npz -q \"https://nustedupk0-my.sharepoint.com/:u:/g/personal/smalik_mscse18_rcms_nust_edu_pk/EaP_gYusCEFOlbQBm3HH5xoB9384Jie2WF8fzhja_b06Cg?e=xIU6Q5&download=1\"\n",
        "!wget -O neg_motifs.npz -q \"https://nustedupk0-my.sharepoint.com/:u:/g/personal/smalik_mscse18_rcms_nust_edu_pk/EeGtIXbaFzBGgXFKl7oAuf0BDN4tOuIh3WdXx9kc1FhIdw?e=vQ3q69&download=1\""
      ],
      "execution_count": 4,
      "outputs": []
    },
    {
      "cell_type": "markdown",
      "metadata": {
        "id": "VBGoyJ5vUONV",
        "colab_type": "text"
      },
      "source": [
        "Positive"
      ]
    },
    {
      "cell_type": "code",
      "metadata": {
        "id": "BiCQy6O_TrU0",
        "colab_type": "code",
        "colab": {
          "base_uri": "https://localhost:8080/",
          "height": 34
        },
        "outputId": "7572735d-9e1a-4c32-a541-5dddab4d8df7"
      },
      "source": [
        "pos_nparr = np.load('pos_motifs.npz')\n",
        "pos_imgs = pos_nparr['arr_0']\n",
        "pos_chars = pos_nparr['arr_1']\n",
        "print(pos_imgs.shape)"
      ],
      "execution_count": 8,
      "outputs": [
        {
          "output_type": "stream",
          "text": [
            "(50581, 28, 28, 1)\n"
          ],
          "name": "stdout"
        }
      ]
    },
    {
      "cell_type": "markdown",
      "metadata": {
        "id": "Q66vVtNCUPlR",
        "colab_type": "text"
      },
      "source": [
        "Negatives"
      ]
    },
    {
      "cell_type": "code",
      "metadata": {
        "id": "CIxg1weTUQ-5",
        "colab_type": "code",
        "colab": {
          "base_uri": "https://localhost:8080/",
          "height": 34
        },
        "outputId": "2032a87c-e723-4ea3-9e85-0cde6e8bb903"
      },
      "source": [
        "neg_nparr = np.load('neg_motifs.npz')\n",
        "neg_imgs = pos_nparr['arr_0']\n",
        "neg_chars = pos_nparr['arr_1']\n",
        "print(neg_imgs.shape)"
      ],
      "execution_count": 9,
      "outputs": [
        {
          "output_type": "stream",
          "text": [
            "(50581, 28, 28, 1)\n"
          ],
          "name": "stdout"
        }
      ]
    },
    {
      "cell_type": "markdown",
      "metadata": {
        "id": "EKD4XXQbUW82",
        "colab_type": "text"
      },
      "source": [
        "**Visualize Data**"
      ]
    },
    {
      "cell_type": "code",
      "metadata": {
        "id": "WGlWp4lSSNvK",
        "colab_type": "code",
        "colab": {
          "base_uri": "https://localhost:8080/",
          "height": 508
        },
        "outputId": "50737603-8aff-4f41-ec68-245105cda220"
      },
      "source": [
        "# show_images(x_train)\n",
        "show_coupled(data=(pos_imgs, pos_chars),\n",
        "             title='Postive Samples')"
      ],
      "execution_count": 10,
      "outputs": [
        {
          "output_type": "display_data",
          "data": {
            "image/png": "[encoded data removed]",
            "text/plain": [
              "<Figure size 720x576 with 8 Axes>"
            ]
          },
          "metadata": {
            "tags": [],
            "needs_background": "light"
          }
        }
      ]
    },
    {
      "cell_type": "code",
      "metadata": {
        "id": "wbro1dsm4kas",
        "colab_type": "code",
        "colab": {
          "base_uri": "https://localhost:8080/",
          "height": 508
        },
        "outputId": "c779c126-e9d4-4c00-fcef-7a4ae9f39df3"
      },
      "source": [
        "show_coupled(data=(neg_imgs, neg_chars),\n",
        "             title='Negative Samples')"
      ],
      "execution_count": 11,
      "outputs": [
        {
          "output_type": "display_data",
          "data": {
            "image/png": "[encoded data removed]",
            "text/plain": [
              "<Figure size 720x576 with 8 Axes>"
            ]
          },
          "metadata": {
            "tags": [],
            "needs_background": "light"
          }
        }
      ]
    },
    {
      "cell_type": "code",
      "metadata": {
        "id": "IK9McTu6Tj3l",
        "colab_type": "code",
        "colab": {}
      },
      "source": [
        ""
      ],
      "execution_count": null,
      "outputs": []
    }
  ]
}